{
 "cells": [
  {
   "cell_type": "markdown",
   "metadata": {},
   "source": [
    "<h1 align=\"center\"><u>Big Data and Analytics Project</u></h1>"
   ]
  },
  {
   "cell_type": "markdown",
   "metadata": {},
   "source": [
    " "
   ]
  },
  {
   "cell_type": "markdown",
   "metadata": {},
   "source": [
    "<div align=\"center\">\n",
    "<img src='https://media-cdn.sueddeutsche.de/image/sz.1.1891498/1200x675?v=1521509984000' width=\"500\" />\n",
    "</div>"
   ]
  },
  {
   "cell_type": "markdown",
   "metadata": {},
   "source": [
    "## Content\n",
    " 1. Project idea\n",
    " 2. Project members\n",
    " 3. Our approach\n",
    " 4. Folder structure"
   ]
  },
  {
   "cell_type": "markdown",
   "metadata": {},
   "source": [
    "<hr>"
   ]
  },
  {
   "cell_type": "markdown",
   "metadata": {},
   "source": [
    "## 1 Project idea"
   ]
  },
  {
   "cell_type": "markdown",
   "metadata": {},
   "source": [
    "Welcome to our Big Data & Analytics project - a project about stock recommendations using big data. Stocks are traded every day, and traders use information about stocks, such as fundamental data to make decisions on whether to buy, sell or hold a stock. This information is available in large quantities, so it is impossible for the individual trader to process all of this information and include it in stock buying decisions. In order to solve this problem we built a Machine Learning Algorithm with Python to predict as to whether it is worth buying, selling or holding a share today to make a profit in a certain amout of time."
   ]
  },
  {
   "cell_type": "markdown",
   "metadata": {},
   "source": [
    "## 2 Project members"
   ]
  },
  {
   "cell_type": "markdown",
   "metadata": {},
   "source": [
    "<table>\n",
    "    <tr>\n",
    "        <td>\n",
    "            <img src=\"https://www.xing.com/image/6_7_f_058a4d857_24849535_1/katja-rapp-foto.1024x1024.jpg\" width=\"200px\" height=\"200px\">\n",
    "        </td>\n",
    "        <td>\n",
    "            <img src=\"https://www.xing.com/image/b_1_2_09fcca4c4_20785520_3/jean-michel-taverne-foto.1024x1024.jpg\" width=\"200px\" height=\"200px\">\n",
    "        </td>\n",
    "        <td>\n",
    "            <img src=\"https://www.xing.com/image/e_4_c_2a4acf4a6_18511090_2/timo-schr%C3%A4gle-foto.1024x1024.jpg\" width=\"200px\" height=\"200px\">\n",
    "        </td>\n",
    "        <td>\n",
    "            <img src=\"https://www.xing.com/image/0_a_1_bfcea3217_28193259_2/felix-augenstein-foto.1024x1024.jpg\" width=\"200px\" height=\"200px\">\n",
    "        </td>\n",
    "    </tr>\n",
    "        <td>\n",
    "            <p style=\"font-size: 28px;\">Katja<br>Rapp</p>\n",
    "        </td>\n",
    "        <td>\n",
    "            <p style=\"font-size: 28px;\">Jean-Michel<br>Taverne</p>\n",
    "        </td>\n",
    "        <td>\n",
    "            <p style=\"font-size: 28px;\">Timo<br>Schrägle</p>\n",
    "        </td>\n",
    "        <td>\n",
    "            <p style=\"font-size: 28px;\">Felix<br>Augenstein</p>\n",
    "        </td>\n",
    "    <tr>\n",
    "    </tr>\n",
    "</table>"
   ]
  },
  {
   "cell_type": "markdown",
   "metadata": {},
   "source": [
    "## 3 Our approach"
   ]
  },
  {
   "cell_type": "markdown",
   "metadata": {},
   "source": [
    "Our approach for this project is based on the Cross-Industry Standard Process for Data Mining (CRISP-DM). This model consists of six phases intended as a cyclical process: "
   ]
  },
  {
   "cell_type": "markdown",
   "metadata": {},
   "source": [
    "- **Business Understanding:** Business Understanding is a phase to define business objectives, assessing the current situation, establishing data mining goals, and developing a project plan."
   ]
  },
  {
   "cell_type": "markdown",
   "metadata": {},
   "source": [
    "- **Data Understanding:** After establishing business objectives and a project plan, data understanding is the phase to determine data requirements. This step includes an initial data collection, data description, data exploration, and the verification of data quality. Data exploration occurs at the end of this phase."
   ]
  },
  {
   "cell_type": "markdown",
   "metadata": {},
   "source": [
    "- **Data Preparation:** Once available data resources are identified, they need to be selected, cleaned, built into the form desired, and formatted. In this phase data cleaning and data transformation in preparation of data modeling takes place. Furthermore, data exploration can be applied to a greater extend during this phase, considering the opportunity to see certain patterns in the data based on the business understanding phase."
   ]
  },
  {
   "cell_type": "markdown",
   "metadata": {},
   "source": [
    "- **Modeling:** Data mining software tools such as visualization (plotting data and establishing relationships) and cluster analysis (to identify which variables get along well) are useful for an initial analysis. Once the data understanding increases - usually through pattern recognition in the data, triggered by viewing the model output - more detailed models can be developed. Moreover, the division of data into training and test sets is another requirement for the modeling phase."
   ]
  },
  {
   "cell_type": "markdown",
   "metadata": {},
   "source": [
    "- **Evaluation:** Once the Modeling phase is completed, model results should be evaluated considering the context of the business objectives established in the business understanding phase. This will probably lead to the identification of further needs (often through pattern recognition), which is the initiator of another iteration of CRISP-DM."
   ]
  },
  {
   "cell_type": "markdown",
   "metadata": {},
   "source": [
    "- **Deployment:** Data mining, on the one hand, can be used to verify previously established hypotheses and on the other hand, to discover new - sometimes unexpected but useful insights. Through the knowledge discovered in the earlier phases of the CRISP-DM process, sound models can be obtained that may then be applied to business operations for many purposes, including prediction or identification of key situations. These models need to be monitored for changes in operating conditions, because what might be true today may not be true in the future. If significant changes happen, the current model should be replaced by a new, more accurate one. It is also highly recommendable to record the results of data mining projects so documented evidence is available for future studies."
   ]
  },
  {
   "cell_type": "markdown",
   "metadata": {},
   "source": [
    "<div align='center'>\n",
    "    <img src='http://crisp-dm.eu/wp-content/uploads/2013/07/newcrispdiagram.gif' width=\"500\" />\n",
    "</div>"
   ]
  },
  {
   "cell_type": "markdown",
   "metadata": {},
   "source": [
    "Source: Advanced Data Mining Techniques, Olson, D.L.; Delen, D., 2008, Softcover"
   ]
  },
  {
   "cell_type": "markdown",
   "metadata": {},
   "source": [
    "## 4 Folder structure"
   ]
  },
  {
   "cell_type": "markdown",
   "metadata": {},
   "source": [
    "We have set up our folder structure based on the CRISP-DM phases.\n",
    "\n",
    "Our first folder contain the steps: Business understanding and Data understanding.\n",
    "Our second folder contain the steps: Data Preparation, Modeling and Evaluation.\n",
    "\n",
    "We didn't deployed our model, so we added the last step which contains our Lessons Learned and Next steps we would fulfill before deployment."
   ]
  },
  {
   "cell_type": "code",
   "execution_count": null,
   "metadata": {},
   "outputs": [],
   "source": []
  }
 ],
 "metadata": {
  "kernelspec": {
   "display_name": "Python 3",
   "language": "python",
   "name": "python3"
  },
  "language_info": {
   "codemirror_mode": {
    "name": "ipython",
    "version": 3
   },
   "file_extension": ".py",
   "mimetype": "text/x-python",
   "name": "python",
   "nbconvert_exporter": "python",
   "pygments_lexer": "ipython3",
   "version": "3.6.8"
  }
 },
 "nbformat": 4,
 "nbformat_minor": 2
}
