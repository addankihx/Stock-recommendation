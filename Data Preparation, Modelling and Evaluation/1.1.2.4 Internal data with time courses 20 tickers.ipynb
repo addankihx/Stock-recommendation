{
 "cells": [
  {
   "cell_type": "markdown",
   "metadata": {},
   "source": [
    "# Internal data with time courses"
   ]
  },
  {
   "cell_type": "markdown",
   "metadata": {},
   "source": [
    "This notebook imports the data from the Data Preperation for 20 tickers with time courses of 10, 20, 30, 40, 50, 60, 70, 80 and 90 days. Test and training data are generated on the basis of this data. The result is applied to the following five sklearn methods:\n",
    "- Support Vector Machine\n",
    "- Linear Discrimant Analysis\n",
    "- Gradient Boosting\n",
    "- Random Forest\n",
    "- KNN"
   ]
  },
  {
   "cell_type": "markdown",
   "metadata": {},
   "source": [
    "# Content\n",
    " \n",
    " 1. Import dependencies\n",
    " 2. Load data\n",
    " 3. Removing values of type Nan or inf\n",
    " 4. Splitting data in training and testing\n",
    " 5. Support Vector Machine\n",
    " 6. Linear Discrimant Analysis\n",
    " 7. Gradient Boosting\n",
    " 8. Random Forest\n",
    " 9. KNN\n",
    " 10. Result"
   ]
  },
  {
   "cell_type": "markdown",
   "metadata": {},
   "source": [
    "<hr>"
   ]
  },
  {
   "cell_type": "markdown",
   "metadata": {},
   "source": [
    "# 1. Import dependencies"
   ]
  },
  {
   "cell_type": "code",
   "execution_count": 1,
   "metadata": {},
   "outputs": [],
   "source": [
    "import numpy as np\n",
    "import pandas as pd\n",
    "import datetime\n",
    "from sklearn import svm\n",
    "from sklearn.model_selection import train_test_split\n",
    "from sklearn.discriminant_analysis import LinearDiscriminantAnalysis\n",
    "from sklearn import model_selection\n",
    "from sklearn.ensemble import GradientBoostingClassifier\n",
    "from sklearn.preprocessing import MinMaxScaler\n",
    "from sklearn.pipeline import Pipeline\n",
    "from sklearn.ensemble import RandomForestClassifier\n",
    "from sklearn.neighbors import KNeighborsClassifier"
   ]
  },
  {
   "cell_type": "markdown",
   "metadata": {},
   "source": [
    "# 2. Load data"
   ]
  },
  {
   "cell_type": "code",
   "execution_count": 2,
   "metadata": {},
   "outputs": [],
   "source": [
    "training = pd.read_csv('prepared data/Training_set-sklearn_20 Ticker.csv')"
   ]
  },
  {
   "cell_type": "code",
   "execution_count": 3,
   "metadata": {},
   "outputs": [
    {
     "data": {
      "text/html": [
       "<div>\n",
       "<style scoped>\n",
       "    .dataframe tbody tr th:only-of-type {\n",
       "        vertical-align: middle;\n",
       "    }\n",
       "\n",
       "    .dataframe tbody tr th {\n",
       "        vertical-align: top;\n",
       "    }\n",
       "\n",
       "    .dataframe thead th {\n",
       "        text-align: right;\n",
       "    }\n",
       "</style>\n",
       "<table border=\"1\" class=\"dataframe\">\n",
       "  <thead>\n",
       "    <tr style=\"text-align: right;\">\n",
       "      <th></th>\n",
       "      <th>Unnamed: 0</th>\n",
       "      <th>Entwicklungsrate Volume t+10</th>\n",
       "      <th>Entwicklungsrate Volume t+20</th>\n",
       "      <th>Entwicklungsrate Volume t+30</th>\n",
       "      <th>Entwicklungsrate Volume t+40</th>\n",
       "      <th>Entwicklungsrate Volume t+50</th>\n",
       "      <th>Entwicklungsrate Volume t+60</th>\n",
       "      <th>Entwicklungsrate Volume t+70</th>\n",
       "      <th>Entwicklungsrate Volume t+80</th>\n",
       "      <th>Entwicklungsrate Volume t+90</th>\n",
       "      <th>Entwicklungsrate Preis t+10</th>\n",
       "      <th>Entwicklungsrate Preis t+20</th>\n",
       "      <th>Entwicklungsrate Preis t+30</th>\n",
       "      <th>Entwicklungsrate Preis t+40</th>\n",
       "      <th>Entwicklungsrate Preis t+50</th>\n",
       "      <th>Entwicklungsrate Preis t+60</th>\n",
       "      <th>Entwicklungsrate Preis t+70</th>\n",
       "      <th>Entwicklungsrate Preis t+80</th>\n",
       "      <th>Entwicklungsrate Preis t+90</th>\n",
       "      <th>Y</th>\n",
       "    </tr>\n",
       "  </thead>\n",
       "  <tbody>\n",
       "    <tr>\n",
       "      <th>0</th>\n",
       "      <td>0</td>\n",
       "      <td>1.051417</td>\n",
       "      <td>0.246943</td>\n",
       "      <td>-0.115904</td>\n",
       "      <td>0.163367</td>\n",
       "      <td>0.071779</td>\n",
       "      <td>-0.288287</td>\n",
       "      <td>-0.216916</td>\n",
       "      <td>-0.270543</td>\n",
       "      <td>-0.241494</td>\n",
       "      <td>-0.170821</td>\n",
       "      <td>-0.322701</td>\n",
       "      <td>-0.343678</td>\n",
       "      <td>-0.350806</td>\n",
       "      <td>-0.352104</td>\n",
       "      <td>-0.266236</td>\n",
       "      <td>-0.252081</td>\n",
       "      <td>-0.127110</td>\n",
       "      <td>-0.053690</td>\n",
       "      <td>-1</td>\n",
       "    </tr>\n",
       "    <tr>\n",
       "      <th>1</th>\n",
       "      <td>1</td>\n",
       "      <td>1.087555</td>\n",
       "      <td>0.200314</td>\n",
       "      <td>0.070344</td>\n",
       "      <td>0.891826</td>\n",
       "      <td>0.273770</td>\n",
       "      <td>0.226230</td>\n",
       "      <td>-0.171043</td>\n",
       "      <td>0.096679</td>\n",
       "      <td>-0.022362</td>\n",
       "      <td>-0.169965</td>\n",
       "      <td>-0.310988</td>\n",
       "      <td>-0.356183</td>\n",
       "      <td>-0.374539</td>\n",
       "      <td>-0.356183</td>\n",
       "      <td>-0.248180</td>\n",
       "      <td>-0.242617</td>\n",
       "      <td>-0.113233</td>\n",
       "      <td>-0.027610</td>\n",
       "      <td>-1</td>\n",
       "    </tr>\n",
       "    <tr>\n",
       "      <th>2</th>\n",
       "      <td>2</td>\n",
       "      <td>0.184439</td>\n",
       "      <td>-0.382323</td>\n",
       "      <td>-0.309641</td>\n",
       "      <td>0.226367</td>\n",
       "      <td>-0.172212</td>\n",
       "      <td>-0.282219</td>\n",
       "      <td>-0.453389</td>\n",
       "      <td>-0.217269</td>\n",
       "      <td>-0.370241</td>\n",
       "      <td>-0.125118</td>\n",
       "      <td>-0.281185</td>\n",
       "      <td>-0.332625</td>\n",
       "      <td>-0.340450</td>\n",
       "      <td>-0.296378</td>\n",
       "      <td>-0.201242</td>\n",
       "      <td>-0.180618</td>\n",
       "      <td>-0.051010</td>\n",
       "      <td>0.015919</td>\n",
       "      <td>0</td>\n",
       "    </tr>\n",
       "    <tr>\n",
       "      <th>3</th>\n",
       "      <td>3</td>\n",
       "      <td>0.174965</td>\n",
       "      <td>-0.449355</td>\n",
       "      <td>-0.533133</td>\n",
       "      <td>-0.410366</td>\n",
       "      <td>-0.512335</td>\n",
       "      <td>-0.492534</td>\n",
       "      <td>-0.660134</td>\n",
       "      <td>-0.563951</td>\n",
       "      <td>-0.578607</td>\n",
       "      <td>-0.135234</td>\n",
       "      <td>-0.256988</td>\n",
       "      <td>-0.303960</td>\n",
       "      <td>-0.300822</td>\n",
       "      <td>-0.253992</td>\n",
       "      <td>-0.150355</td>\n",
       "      <td>-0.125710</td>\n",
       "      <td>0.002911</td>\n",
       "      <td>0.057287</td>\n",
       "      <td>0</td>\n",
       "    </tr>\n",
       "    <tr>\n",
       "      <th>4</th>\n",
       "      <td>4</td>\n",
       "      <td>1.213502</td>\n",
       "      <td>0.032456</td>\n",
       "      <td>-0.384365</td>\n",
       "      <td>-0.032889</td>\n",
       "      <td>-0.403611</td>\n",
       "      <td>-0.439291</td>\n",
       "      <td>-0.326188</td>\n",
       "      <td>-0.339761</td>\n",
       "      <td>-0.497466</td>\n",
       "      <td>-0.246617</td>\n",
       "      <td>-0.281860</td>\n",
       "      <td>-0.299864</td>\n",
       "      <td>-0.297090</td>\n",
       "      <td>-0.257006</td>\n",
       "      <td>-0.135311</td>\n",
       "      <td>-0.092340</td>\n",
       "      <td>0.020410</td>\n",
       "      <td>0.068052</td>\n",
       "      <td>0</td>\n",
       "    </tr>\n",
       "  </tbody>\n",
       "</table>\n",
       "</div>"
      ],
      "text/plain": [
       "   Unnamed: 0  Entwicklungsrate Volume t+10  Entwicklungsrate Volume t+20  \\\n",
       "0           0                      1.051417                      0.246943   \n",
       "1           1                      1.087555                      0.200314   \n",
       "2           2                      0.184439                     -0.382323   \n",
       "3           3                      0.174965                     -0.449355   \n",
       "4           4                      1.213502                      0.032456   \n",
       "\n",
       "   Entwicklungsrate Volume t+30  Entwicklungsrate Volume t+40  \\\n",
       "0                     -0.115904                      0.163367   \n",
       "1                      0.070344                      0.891826   \n",
       "2                     -0.309641                      0.226367   \n",
       "3                     -0.533133                     -0.410366   \n",
       "4                     -0.384365                     -0.032889   \n",
       "\n",
       "   Entwicklungsrate Volume t+50  Entwicklungsrate Volume t+60  \\\n",
       "0                      0.071779                     -0.288287   \n",
       "1                      0.273770                      0.226230   \n",
       "2                     -0.172212                     -0.282219   \n",
       "3                     -0.512335                     -0.492534   \n",
       "4                     -0.403611                     -0.439291   \n",
       "\n",
       "   Entwicklungsrate Volume t+70  Entwicklungsrate Volume t+80  \\\n",
       "0                     -0.216916                     -0.270543   \n",
       "1                     -0.171043                      0.096679   \n",
       "2                     -0.453389                     -0.217269   \n",
       "3                     -0.660134                     -0.563951   \n",
       "4                     -0.326188                     -0.339761   \n",
       "\n",
       "   Entwicklungsrate Volume t+90  Entwicklungsrate Preis t+10  \\\n",
       "0                     -0.241494                    -0.170821   \n",
       "1                     -0.022362                    -0.169965   \n",
       "2                     -0.370241                    -0.125118   \n",
       "3                     -0.578607                    -0.135234   \n",
       "4                     -0.497466                    -0.246617   \n",
       "\n",
       "   Entwicklungsrate Preis t+20  Entwicklungsrate Preis t+30  \\\n",
       "0                    -0.322701                    -0.343678   \n",
       "1                    -0.310988                    -0.356183   \n",
       "2                    -0.281185                    -0.332625   \n",
       "3                    -0.256988                    -0.303960   \n",
       "4                    -0.281860                    -0.299864   \n",
       "\n",
       "   Entwicklungsrate Preis t+40  Entwicklungsrate Preis t+50  \\\n",
       "0                    -0.350806                    -0.352104   \n",
       "1                    -0.374539                    -0.356183   \n",
       "2                    -0.340450                    -0.296378   \n",
       "3                    -0.300822                    -0.253992   \n",
       "4                    -0.297090                    -0.257006   \n",
       "\n",
       "   Entwicklungsrate Preis t+60  Entwicklungsrate Preis t+70  \\\n",
       "0                    -0.266236                    -0.252081   \n",
       "1                    -0.248180                    -0.242617   \n",
       "2                    -0.201242                    -0.180618   \n",
       "3                    -0.150355                    -0.125710   \n",
       "4                    -0.135311                    -0.092340   \n",
       "\n",
       "   Entwicklungsrate Preis t+80  Entwicklungsrate Preis t+90  Y  \n",
       "0                    -0.127110                    -0.053690 -1  \n",
       "1                    -0.113233                    -0.027610 -1  \n",
       "2                    -0.051010                     0.015919  0  \n",
       "3                     0.002911                     0.057287  0  \n",
       "4                     0.020410                     0.068052  0  "
      ]
     },
     "execution_count": 3,
     "metadata": {},
     "output_type": "execute_result"
    }
   ],
   "source": [
    "training.head()"
   ]
  },
  {
   "cell_type": "code",
   "execution_count": 4,
   "metadata": {},
   "outputs": [
    {
     "data": {
      "text/html": [
       "<div>\n",
       "<style scoped>\n",
       "    .dataframe tbody tr th:only-of-type {\n",
       "        vertical-align: middle;\n",
       "    }\n",
       "\n",
       "    .dataframe tbody tr th {\n",
       "        vertical-align: top;\n",
       "    }\n",
       "\n",
       "    .dataframe thead th {\n",
       "        text-align: right;\n",
       "    }\n",
       "</style>\n",
       "<table border=\"1\" class=\"dataframe\">\n",
       "  <thead>\n",
       "    <tr style=\"text-align: right;\">\n",
       "      <th></th>\n",
       "      <th>Unnamed: 0</th>\n",
       "      <th>Entwicklungsrate Volume t+10</th>\n",
       "      <th>Entwicklungsrate Volume t+20</th>\n",
       "      <th>Entwicklungsrate Volume t+30</th>\n",
       "      <th>Entwicklungsrate Volume t+40</th>\n",
       "      <th>Entwicklungsrate Volume t+50</th>\n",
       "      <th>Entwicklungsrate Volume t+60</th>\n",
       "      <th>Entwicklungsrate Volume t+70</th>\n",
       "      <th>Entwicklungsrate Volume t+80</th>\n",
       "      <th>Entwicklungsrate Volume t+90</th>\n",
       "      <th>Entwicklungsrate Preis t+10</th>\n",
       "      <th>Entwicklungsrate Preis t+20</th>\n",
       "      <th>Entwicklungsrate Preis t+30</th>\n",
       "      <th>Entwicklungsrate Preis t+40</th>\n",
       "      <th>Entwicklungsrate Preis t+50</th>\n",
       "      <th>Entwicklungsrate Preis t+60</th>\n",
       "      <th>Entwicklungsrate Preis t+70</th>\n",
       "      <th>Entwicklungsrate Preis t+80</th>\n",
       "      <th>Entwicklungsrate Preis t+90</th>\n",
       "      <th>Y</th>\n",
       "    </tr>\n",
       "  </thead>\n",
       "  <tbody>\n",
       "    <tr>\n",
       "      <th>106004</th>\n",
       "      <td>1463</td>\n",
       "      <td>0.408541</td>\n",
       "      <td>0.572405</td>\n",
       "      <td>4.638633</td>\n",
       "      <td>0.607884</td>\n",
       "      <td>-0.028121</td>\n",
       "      <td>0.977924</td>\n",
       "      <td>0.147832</td>\n",
       "      <td>0.322339</td>\n",
       "      <td>0.525493</td>\n",
       "      <td>0.028053</td>\n",
       "      <td>0.020509</td>\n",
       "      <td>0.058934</td>\n",
       "      <td>0.034771</td>\n",
       "      <td>0.076379</td>\n",
       "      <td>0.028996</td>\n",
       "      <td>-0.003536</td>\n",
       "      <td>0.049505</td>\n",
       "      <td>0.067657</td>\n",
       "      <td>0</td>\n",
       "    </tr>\n",
       "    <tr>\n",
       "      <th>106005</th>\n",
       "      <td>1464</td>\n",
       "      <td>-0.457371</td>\n",
       "      <td>0.042873</td>\n",
       "      <td>8.111211</td>\n",
       "      <td>-0.396274</td>\n",
       "      <td>-0.122031</td>\n",
       "      <td>0.033355</td>\n",
       "      <td>-0.478116</td>\n",
       "      <td>-0.656199</td>\n",
       "      <td>0.535389</td>\n",
       "      <td>0.031761</td>\n",
       "      <td>0.024239</td>\n",
       "      <td>-0.038806</td>\n",
       "      <td>0.047164</td>\n",
       "      <td>0.103881</td>\n",
       "      <td>0.011463</td>\n",
       "      <td>0.016119</td>\n",
       "      <td>0.059343</td>\n",
       "      <td>0.109731</td>\n",
       "      <td>0</td>\n",
       "    </tr>\n",
       "    <tr>\n",
       "      <th>106006</th>\n",
       "      <td>1465</td>\n",
       "      <td>1.363731</td>\n",
       "      <td>3.216244</td>\n",
       "      <td>6.288118</td>\n",
       "      <td>0.969049</td>\n",
       "      <td>0.978604</td>\n",
       "      <td>1.423764</td>\n",
       "      <td>0.296843</td>\n",
       "      <td>0.599709</td>\n",
       "      <td>2.028666</td>\n",
       "      <td>0.030314</td>\n",
       "      <td>0.037300</td>\n",
       "      <td>-0.090468</td>\n",
       "      <td>0.041563</td>\n",
       "      <td>0.108585</td>\n",
       "      <td>-0.008999</td>\n",
       "      <td>0.018591</td>\n",
       "      <td>0.038484</td>\n",
       "      <td>0.117466</td>\n",
       "      <td>0</td>\n",
       "    </tr>\n",
       "    <tr>\n",
       "      <th>106007</th>\n",
       "      <td>1466</td>\n",
       "      <td>4.371960</td>\n",
       "      <td>1.755974</td>\n",
       "      <td>3.063650</td>\n",
       "      <td>1.012476</td>\n",
       "      <td>1.495031</td>\n",
       "      <td>1.518926</td>\n",
       "      <td>0.479805</td>\n",
       "      <td>0.345316</td>\n",
       "      <td>2.654472</td>\n",
       "      <td>0.060413</td>\n",
       "      <td>0.064307</td>\n",
       "      <td>-0.091681</td>\n",
       "      <td>0.025015</td>\n",
       "      <td>0.093215</td>\n",
       "      <td>-0.016637</td>\n",
       "      <td>0.031386</td>\n",
       "      <td>0.027611</td>\n",
       "      <td>0.134041</td>\n",
       "      <td>0</td>\n",
       "    </tr>\n",
       "    <tr>\n",
       "      <th>106008</th>\n",
       "      <td>1467</td>\n",
       "      <td>1.039925</td>\n",
       "      <td>0.301394</td>\n",
       "      <td>0.662747</td>\n",
       "      <td>0.275842</td>\n",
       "      <td>0.130517</td>\n",
       "      <td>0.622967</td>\n",
       "      <td>-0.053426</td>\n",
       "      <td>0.446138</td>\n",
       "      <td>4.126597</td>\n",
       "      <td>0.058342</td>\n",
       "      <td>0.036997</td>\n",
       "      <td>-0.075537</td>\n",
       "      <td>0.039962</td>\n",
       "      <td>0.097000</td>\n",
       "      <td>-0.025377</td>\n",
       "      <td>0.042927</td>\n",
       "      <td>0.059765</td>\n",
       "      <td>0.136725</td>\n",
       "      <td>0</td>\n",
       "    </tr>\n",
       "  </tbody>\n",
       "</table>\n",
       "</div>"
      ],
      "text/plain": [
       "        Unnamed: 0  Entwicklungsrate Volume t+10  \\\n",
       "106004        1463                      0.408541   \n",
       "106005        1464                     -0.457371   \n",
       "106006        1465                      1.363731   \n",
       "106007        1466                      4.371960   \n",
       "106008        1467                      1.039925   \n",
       "\n",
       "        Entwicklungsrate Volume t+20  Entwicklungsrate Volume t+30  \\\n",
       "106004                      0.572405                      4.638633   \n",
       "106005                      0.042873                      8.111211   \n",
       "106006                      3.216244                      6.288118   \n",
       "106007                      1.755974                      3.063650   \n",
       "106008                      0.301394                      0.662747   \n",
       "\n",
       "        Entwicklungsrate Volume t+40  Entwicklungsrate Volume t+50  \\\n",
       "106004                      0.607884                     -0.028121   \n",
       "106005                     -0.396274                     -0.122031   \n",
       "106006                      0.969049                      0.978604   \n",
       "106007                      1.012476                      1.495031   \n",
       "106008                      0.275842                      0.130517   \n",
       "\n",
       "        Entwicklungsrate Volume t+60  Entwicklungsrate Volume t+70  \\\n",
       "106004                      0.977924                      0.147832   \n",
       "106005                      0.033355                     -0.478116   \n",
       "106006                      1.423764                      0.296843   \n",
       "106007                      1.518926                      0.479805   \n",
       "106008                      0.622967                     -0.053426   \n",
       "\n",
       "        Entwicklungsrate Volume t+80  Entwicklungsrate Volume t+90  \\\n",
       "106004                      0.322339                      0.525493   \n",
       "106005                     -0.656199                      0.535389   \n",
       "106006                      0.599709                      2.028666   \n",
       "106007                      0.345316                      2.654472   \n",
       "106008                      0.446138                      4.126597   \n",
       "\n",
       "        Entwicklungsrate Preis t+10  Entwicklungsrate Preis t+20  \\\n",
       "106004                     0.028053                     0.020509   \n",
       "106005                     0.031761                     0.024239   \n",
       "106006                     0.030314                     0.037300   \n",
       "106007                     0.060413                     0.064307   \n",
       "106008                     0.058342                     0.036997   \n",
       "\n",
       "        Entwicklungsrate Preis t+30  Entwicklungsrate Preis t+40  \\\n",
       "106004                     0.058934                     0.034771   \n",
       "106005                    -0.038806                     0.047164   \n",
       "106006                    -0.090468                     0.041563   \n",
       "106007                    -0.091681                     0.025015   \n",
       "106008                    -0.075537                     0.039962   \n",
       "\n",
       "        Entwicklungsrate Preis t+50  Entwicklungsrate Preis t+60  \\\n",
       "106004                     0.076379                     0.028996   \n",
       "106005                     0.103881                     0.011463   \n",
       "106006                     0.108585                    -0.008999   \n",
       "106007                     0.093215                    -0.016637   \n",
       "106008                     0.097000                    -0.025377   \n",
       "\n",
       "        Entwicklungsrate Preis t+70  Entwicklungsrate Preis t+80  \\\n",
       "106004                    -0.003536                     0.049505   \n",
       "106005                     0.016119                     0.059343   \n",
       "106006                     0.018591                     0.038484   \n",
       "106007                     0.031386                     0.027611   \n",
       "106008                     0.042927                     0.059765   \n",
       "\n",
       "        Entwicklungsrate Preis t+90  Y  \n",
       "106004                     0.067657  0  \n",
       "106005                     0.109731  0  \n",
       "106006                     0.117466  0  \n",
       "106007                     0.134041  0  \n",
       "106008                     0.136725  0  "
      ]
     },
     "execution_count": 4,
     "metadata": {},
     "output_type": "execute_result"
    }
   ],
   "source": [
    "training.tail()"
   ]
  },
  {
   "cell_type": "code",
   "execution_count": 5,
   "metadata": {},
   "outputs": [
    {
     "data": {
      "text/plain": [
       "(106009, 20)"
      ]
     },
     "execution_count": 5,
     "metadata": {},
     "output_type": "execute_result"
    }
   ],
   "source": [
    "training.shape"
   ]
  },
  {
   "cell_type": "markdown",
   "metadata": {},
   "source": [
    "# 3. Removing values of type Nan or inf"
   ]
  },
  {
   "cell_type": "code",
   "execution_count": 6,
   "metadata": {},
   "outputs": [
    {
     "data": {
      "text/plain": [
       "Unnamed: 0                        int64\n",
       "Entwicklungsrate Volume t+10    float64\n",
       "Entwicklungsrate Volume t+20    float64\n",
       "Entwicklungsrate Volume t+30    float64\n",
       "Entwicklungsrate Volume t+40    float64\n",
       "Entwicklungsrate Volume t+50    float64\n",
       "Entwicklungsrate Volume t+60    float64\n",
       "Entwicklungsrate Volume t+70    float64\n",
       "Entwicklungsrate Volume t+80    float64\n",
       "Entwicklungsrate Volume t+90    float64\n",
       "Entwicklungsrate Preis t+10     float64\n",
       "Entwicklungsrate Preis t+20     float64\n",
       "Entwicklungsrate Preis t+30     float64\n",
       "Entwicklungsrate Preis t+40     float64\n",
       "Entwicklungsrate Preis t+50     float64\n",
       "Entwicklungsrate Preis t+60     float64\n",
       "Entwicklungsrate Preis t+70     float64\n",
       "Entwicklungsrate Preis t+80     float64\n",
       "Entwicklungsrate Preis t+90     float64\n",
       "Y                                 int64\n",
       "dtype: object"
      ]
     },
     "execution_count": 6,
     "metadata": {},
     "output_type": "execute_result"
    }
   ],
   "source": [
    "training.dtypes"
   ]
  },
  {
   "cell_type": "code",
   "execution_count": 7,
   "metadata": {},
   "outputs": [
    {
     "data": {
      "text/html": [
       "<div>\n",
       "<style scoped>\n",
       "    .dataframe tbody tr th:only-of-type {\n",
       "        vertical-align: middle;\n",
       "    }\n",
       "\n",
       "    .dataframe tbody tr th {\n",
       "        vertical-align: top;\n",
       "    }\n",
       "\n",
       "    .dataframe thead th {\n",
       "        text-align: right;\n",
       "    }\n",
       "</style>\n",
       "<table border=\"1\" class=\"dataframe\">\n",
       "  <thead>\n",
       "    <tr style=\"text-align: right;\">\n",
       "      <th></th>\n",
       "      <th>Unnamed: 0</th>\n",
       "      <th>Entwicklungsrate Volume t+10</th>\n",
       "      <th>Entwicklungsrate Volume t+20</th>\n",
       "      <th>Entwicklungsrate Volume t+30</th>\n",
       "      <th>Entwicklungsrate Volume t+40</th>\n",
       "      <th>Entwicklungsrate Volume t+50</th>\n",
       "      <th>Entwicklungsrate Volume t+60</th>\n",
       "      <th>Entwicklungsrate Volume t+70</th>\n",
       "      <th>Entwicklungsrate Volume t+80</th>\n",
       "      <th>Entwicklungsrate Volume t+90</th>\n",
       "      <th>Entwicklungsrate Preis t+10</th>\n",
       "      <th>Entwicklungsrate Preis t+20</th>\n",
       "      <th>Entwicklungsrate Preis t+30</th>\n",
       "      <th>Entwicklungsrate Preis t+40</th>\n",
       "      <th>Entwicklungsrate Preis t+50</th>\n",
       "      <th>Entwicklungsrate Preis t+60</th>\n",
       "      <th>Entwicklungsrate Preis t+70</th>\n",
       "      <th>Entwicklungsrate Preis t+80</th>\n",
       "      <th>Entwicklungsrate Preis t+90</th>\n",
       "      <th>Y</th>\n",
       "    </tr>\n",
       "  </thead>\n",
       "  <tbody>\n",
       "    <tr>\n",
       "      <th>69148</th>\n",
       "      <td>0</td>\n",
       "      <td>NaN</td>\n",
       "      <td>NaN</td>\n",
       "      <td>NaN</td>\n",
       "      <td>NaN</td>\n",
       "      <td>NaN</td>\n",
       "      <td>NaN</td>\n",
       "      <td>NaN</td>\n",
       "      <td>NaN</td>\n",
       "      <td>NaN</td>\n",
       "      <td>NaN</td>\n",
       "      <td>NaN</td>\n",
       "      <td>NaN</td>\n",
       "      <td>NaN</td>\n",
       "      <td>NaN</td>\n",
       "      <td>NaN</td>\n",
       "      <td>NaN</td>\n",
       "      <td>NaN</td>\n",
       "      <td>NaN</td>\n",
       "      <td>0</td>\n",
       "    </tr>\n",
       "    <tr>\n",
       "      <th>76752</th>\n",
       "      <td>49</td>\n",
       "      <td>inf</td>\n",
       "      <td>inf</td>\n",
       "      <td>inf</td>\n",
       "      <td>inf</td>\n",
       "      <td>NaN</td>\n",
       "      <td>inf</td>\n",
       "      <td>inf</td>\n",
       "      <td>inf</td>\n",
       "      <td>inf</td>\n",
       "      <td>-0.160428</td>\n",
       "      <td>-0.093583</td>\n",
       "      <td>0.018717</td>\n",
       "      <td>0.066845</td>\n",
       "      <td>0.048128</td>\n",
       "      <td>0.066845</td>\n",
       "      <td>0.491979</td>\n",
       "      <td>0.794118</td>\n",
       "      <td>0.943850</td>\n",
       "      <td>0</td>\n",
       "    </tr>\n",
       "    <tr>\n",
       "      <th>76764</th>\n",
       "      <td>61</td>\n",
       "      <td>inf</td>\n",
       "      <td>inf</td>\n",
       "      <td>inf</td>\n",
       "      <td>inf</td>\n",
       "      <td>inf</td>\n",
       "      <td>inf</td>\n",
       "      <td>inf</td>\n",
       "      <td>inf</td>\n",
       "      <td>NaN</td>\n",
       "      <td>0.149660</td>\n",
       "      <td>0.316327</td>\n",
       "      <td>0.360544</td>\n",
       "      <td>0.421769</td>\n",
       "      <td>0.299320</td>\n",
       "      <td>1.003401</td>\n",
       "      <td>1.503401</td>\n",
       "      <td>1.159864</td>\n",
       "      <td>1.312925</td>\n",
       "      <td>1</td>\n",
       "    </tr>\n",
       "    <tr>\n",
       "      <th>76858</th>\n",
       "      <td>155</td>\n",
       "      <td>NaN</td>\n",
       "      <td>inf</td>\n",
       "      <td>inf</td>\n",
       "      <td>inf</td>\n",
       "      <td>inf</td>\n",
       "      <td>inf</td>\n",
       "      <td>inf</td>\n",
       "      <td>inf</td>\n",
       "      <td>inf</td>\n",
       "      <td>-0.121212</td>\n",
       "      <td>0.030303</td>\n",
       "      <td>0.089394</td>\n",
       "      <td>0.151515</td>\n",
       "      <td>0.257576</td>\n",
       "      <td>0.318182</td>\n",
       "      <td>0.419697</td>\n",
       "      <td>0.696970</td>\n",
       "      <td>0.481818</td>\n",
       "      <td>1</td>\n",
       "    </tr>\n",
       "    <tr>\n",
       "      <th>76887</th>\n",
       "      <td>184</td>\n",
       "      <td>inf</td>\n",
       "      <td>inf</td>\n",
       "      <td>inf</td>\n",
       "      <td>NaN</td>\n",
       "      <td>inf</td>\n",
       "      <td>inf</td>\n",
       "      <td>inf</td>\n",
       "      <td>inf</td>\n",
       "      <td>inf</td>\n",
       "      <td>0.026667</td>\n",
       "      <td>0.160000</td>\n",
       "      <td>0.160000</td>\n",
       "      <td>0.240000</td>\n",
       "      <td>0.453333</td>\n",
       "      <td>0.306667</td>\n",
       "      <td>0.278667</td>\n",
       "      <td>0.288000</td>\n",
       "      <td>0.293333</td>\n",
       "      <td>1</td>\n",
       "    </tr>\n",
       "  </tbody>\n",
       "</table>\n",
       "</div>"
      ],
      "text/plain": [
       "       Unnamed: 0  Entwicklungsrate Volume t+10  Entwicklungsrate Volume t+20  \\\n",
       "69148           0                           NaN                           NaN   \n",
       "76752          49                           inf                           inf   \n",
       "76764          61                           inf                           inf   \n",
       "76858         155                           NaN                           inf   \n",
       "76887         184                           inf                           inf   \n",
       "\n",
       "       Entwicklungsrate Volume t+30  Entwicklungsrate Volume t+40  \\\n",
       "69148                           NaN                           NaN   \n",
       "76752                           inf                           inf   \n",
       "76764                           inf                           inf   \n",
       "76858                           inf                           inf   \n",
       "76887                           inf                           NaN   \n",
       "\n",
       "       Entwicklungsrate Volume t+50  Entwicklungsrate Volume t+60  \\\n",
       "69148                           NaN                           NaN   \n",
       "76752                           NaN                           inf   \n",
       "76764                           inf                           inf   \n",
       "76858                           inf                           inf   \n",
       "76887                           inf                           inf   \n",
       "\n",
       "       Entwicklungsrate Volume t+70  Entwicklungsrate Volume t+80  \\\n",
       "69148                           NaN                           NaN   \n",
       "76752                           inf                           inf   \n",
       "76764                           inf                           inf   \n",
       "76858                           inf                           inf   \n",
       "76887                           inf                           inf   \n",
       "\n",
       "       Entwicklungsrate Volume t+90  Entwicklungsrate Preis t+10  \\\n",
       "69148                           NaN                          NaN   \n",
       "76752                           inf                    -0.160428   \n",
       "76764                           NaN                     0.149660   \n",
       "76858                           inf                    -0.121212   \n",
       "76887                           inf                     0.026667   \n",
       "\n",
       "       Entwicklungsrate Preis t+20  Entwicklungsrate Preis t+30  \\\n",
       "69148                          NaN                          NaN   \n",
       "76752                    -0.093583                     0.018717   \n",
       "76764                     0.316327                     0.360544   \n",
       "76858                     0.030303                     0.089394   \n",
       "76887                     0.160000                     0.160000   \n",
       "\n",
       "       Entwicklungsrate Preis t+40  Entwicklungsrate Preis t+50  \\\n",
       "69148                          NaN                          NaN   \n",
       "76752                     0.066845                     0.048128   \n",
       "76764                     0.421769                     0.299320   \n",
       "76858                     0.151515                     0.257576   \n",
       "76887                     0.240000                     0.453333   \n",
       "\n",
       "       Entwicklungsrate Preis t+60  Entwicklungsrate Preis t+70  \\\n",
       "69148                          NaN                          NaN   \n",
       "76752                     0.066845                     0.491979   \n",
       "76764                     1.003401                     1.503401   \n",
       "76858                     0.318182                     0.419697   \n",
       "76887                     0.306667                     0.278667   \n",
       "\n",
       "       Entwicklungsrate Preis t+80  Entwicklungsrate Preis t+90  Y  \n",
       "69148                          NaN                          NaN  0  \n",
       "76752                     0.794118                     0.943850  0  \n",
       "76764                     1.159864                     1.312925  1  \n",
       "76858                     0.696970                     0.481818  1  \n",
       "76887                     0.288000                     0.293333  1  "
      ]
     },
     "execution_count": 7,
     "metadata": {},
     "output_type": "execute_result"
    }
   ],
   "source": [
    "#The calculations from the Data Preperation resulted in cells without \"NaN\" and \"inf\" values. Sklearn methods cannot handle \n",
    "#these values, which is why the rows with the corresponding values are removed.\n",
    "training[training.isnull().any(axis=1)].head()"
   ]
  },
  {
   "cell_type": "code",
   "execution_count": 8,
   "metadata": {},
   "outputs": [],
   "source": [
    "training.dropna(axis = 0, inplace = True)\n",
    "training.replace([np.inf, -np.inf], np.nan).dropna(axis=0, inplace=True)\n",
    "training = training[~(training['Entwicklungsrate Volume t+10']==np.inf)]"
   ]
  },
  {
   "cell_type": "code",
   "execution_count": 9,
   "metadata": {},
   "outputs": [
    {
     "data": {
      "text/html": [
       "<div>\n",
       "<style scoped>\n",
       "    .dataframe tbody tr th:only-of-type {\n",
       "        vertical-align: middle;\n",
       "    }\n",
       "\n",
       "    .dataframe tbody tr th {\n",
       "        vertical-align: top;\n",
       "    }\n",
       "\n",
       "    .dataframe thead th {\n",
       "        text-align: right;\n",
       "    }\n",
       "</style>\n",
       "<table border=\"1\" class=\"dataframe\">\n",
       "  <thead>\n",
       "    <tr style=\"text-align: right;\">\n",
       "      <th></th>\n",
       "      <th>Unnamed: 0</th>\n",
       "      <th>Entwicklungsrate Volume t+10</th>\n",
       "      <th>Entwicklungsrate Volume t+20</th>\n",
       "      <th>Entwicklungsrate Volume t+30</th>\n",
       "      <th>Entwicklungsrate Volume t+40</th>\n",
       "      <th>Entwicklungsrate Volume t+50</th>\n",
       "      <th>Entwicklungsrate Volume t+60</th>\n",
       "      <th>Entwicklungsrate Volume t+70</th>\n",
       "      <th>Entwicklungsrate Volume t+80</th>\n",
       "      <th>Entwicklungsrate Volume t+90</th>\n",
       "      <th>Entwicklungsrate Preis t+10</th>\n",
       "      <th>Entwicklungsrate Preis t+20</th>\n",
       "      <th>Entwicklungsrate Preis t+30</th>\n",
       "      <th>Entwicklungsrate Preis t+40</th>\n",
       "      <th>Entwicklungsrate Preis t+50</th>\n",
       "      <th>Entwicklungsrate Preis t+60</th>\n",
       "      <th>Entwicklungsrate Preis t+70</th>\n",
       "      <th>Entwicklungsrate Preis t+80</th>\n",
       "      <th>Entwicklungsrate Preis t+90</th>\n",
       "      <th>Y</th>\n",
       "    </tr>\n",
       "  </thead>\n",
       "  <tbody>\n",
       "    <tr>\n",
       "      <th>0</th>\n",
       "      <td>0</td>\n",
       "      <td>1.051417</td>\n",
       "      <td>0.246943</td>\n",
       "      <td>-0.115904</td>\n",
       "      <td>0.163367</td>\n",
       "      <td>0.071779</td>\n",
       "      <td>-0.288287</td>\n",
       "      <td>-0.216916</td>\n",
       "      <td>-0.270543</td>\n",
       "      <td>-0.241494</td>\n",
       "      <td>-0.170821</td>\n",
       "      <td>-0.322701</td>\n",
       "      <td>-0.343678</td>\n",
       "      <td>-0.350806</td>\n",
       "      <td>-0.352104</td>\n",
       "      <td>-0.266236</td>\n",
       "      <td>-0.252081</td>\n",
       "      <td>-0.127110</td>\n",
       "      <td>-0.053690</td>\n",
       "      <td>-1</td>\n",
       "    </tr>\n",
       "    <tr>\n",
       "      <th>1</th>\n",
       "      <td>1</td>\n",
       "      <td>1.087555</td>\n",
       "      <td>0.200314</td>\n",
       "      <td>0.070344</td>\n",
       "      <td>0.891826</td>\n",
       "      <td>0.273770</td>\n",
       "      <td>0.226230</td>\n",
       "      <td>-0.171043</td>\n",
       "      <td>0.096679</td>\n",
       "      <td>-0.022362</td>\n",
       "      <td>-0.169965</td>\n",
       "      <td>-0.310988</td>\n",
       "      <td>-0.356183</td>\n",
       "      <td>-0.374539</td>\n",
       "      <td>-0.356183</td>\n",
       "      <td>-0.248180</td>\n",
       "      <td>-0.242617</td>\n",
       "      <td>-0.113233</td>\n",
       "      <td>-0.027610</td>\n",
       "      <td>-1</td>\n",
       "    </tr>\n",
       "    <tr>\n",
       "      <th>2</th>\n",
       "      <td>2</td>\n",
       "      <td>0.184439</td>\n",
       "      <td>-0.382323</td>\n",
       "      <td>-0.309641</td>\n",
       "      <td>0.226367</td>\n",
       "      <td>-0.172212</td>\n",
       "      <td>-0.282219</td>\n",
       "      <td>-0.453389</td>\n",
       "      <td>-0.217269</td>\n",
       "      <td>-0.370241</td>\n",
       "      <td>-0.125118</td>\n",
       "      <td>-0.281185</td>\n",
       "      <td>-0.332625</td>\n",
       "      <td>-0.340450</td>\n",
       "      <td>-0.296378</td>\n",
       "      <td>-0.201242</td>\n",
       "      <td>-0.180618</td>\n",
       "      <td>-0.051010</td>\n",
       "      <td>0.015919</td>\n",
       "      <td>0</td>\n",
       "    </tr>\n",
       "    <tr>\n",
       "      <th>3</th>\n",
       "      <td>3</td>\n",
       "      <td>0.174965</td>\n",
       "      <td>-0.449355</td>\n",
       "      <td>-0.533133</td>\n",
       "      <td>-0.410366</td>\n",
       "      <td>-0.512335</td>\n",
       "      <td>-0.492534</td>\n",
       "      <td>-0.660134</td>\n",
       "      <td>-0.563951</td>\n",
       "      <td>-0.578607</td>\n",
       "      <td>-0.135234</td>\n",
       "      <td>-0.256988</td>\n",
       "      <td>-0.303960</td>\n",
       "      <td>-0.300822</td>\n",
       "      <td>-0.253992</td>\n",
       "      <td>-0.150355</td>\n",
       "      <td>-0.125710</td>\n",
       "      <td>0.002911</td>\n",
       "      <td>0.057287</td>\n",
       "      <td>0</td>\n",
       "    </tr>\n",
       "    <tr>\n",
       "      <th>4</th>\n",
       "      <td>4</td>\n",
       "      <td>1.213502</td>\n",
       "      <td>0.032456</td>\n",
       "      <td>-0.384365</td>\n",
       "      <td>-0.032889</td>\n",
       "      <td>-0.403611</td>\n",
       "      <td>-0.439291</td>\n",
       "      <td>-0.326188</td>\n",
       "      <td>-0.339761</td>\n",
       "      <td>-0.497466</td>\n",
       "      <td>-0.246617</td>\n",
       "      <td>-0.281860</td>\n",
       "      <td>-0.299864</td>\n",
       "      <td>-0.297090</td>\n",
       "      <td>-0.257006</td>\n",
       "      <td>-0.135311</td>\n",
       "      <td>-0.092340</td>\n",
       "      <td>0.020410</td>\n",
       "      <td>0.068052</td>\n",
       "      <td>0</td>\n",
       "    </tr>\n",
       "  </tbody>\n",
       "</table>\n",
       "</div>"
      ],
      "text/plain": [
       "   Unnamed: 0  Entwicklungsrate Volume t+10  Entwicklungsrate Volume t+20  \\\n",
       "0           0                      1.051417                      0.246943   \n",
       "1           1                      1.087555                      0.200314   \n",
       "2           2                      0.184439                     -0.382323   \n",
       "3           3                      0.174965                     -0.449355   \n",
       "4           4                      1.213502                      0.032456   \n",
       "\n",
       "   Entwicklungsrate Volume t+30  Entwicklungsrate Volume t+40  \\\n",
       "0                     -0.115904                      0.163367   \n",
       "1                      0.070344                      0.891826   \n",
       "2                     -0.309641                      0.226367   \n",
       "3                     -0.533133                     -0.410366   \n",
       "4                     -0.384365                     -0.032889   \n",
       "\n",
       "   Entwicklungsrate Volume t+50  Entwicklungsrate Volume t+60  \\\n",
       "0                      0.071779                     -0.288287   \n",
       "1                      0.273770                      0.226230   \n",
       "2                     -0.172212                     -0.282219   \n",
       "3                     -0.512335                     -0.492534   \n",
       "4                     -0.403611                     -0.439291   \n",
       "\n",
       "   Entwicklungsrate Volume t+70  Entwicklungsrate Volume t+80  \\\n",
       "0                     -0.216916                     -0.270543   \n",
       "1                     -0.171043                      0.096679   \n",
       "2                     -0.453389                     -0.217269   \n",
       "3                     -0.660134                     -0.563951   \n",
       "4                     -0.326188                     -0.339761   \n",
       "\n",
       "   Entwicklungsrate Volume t+90  Entwicklungsrate Preis t+10  \\\n",
       "0                     -0.241494                    -0.170821   \n",
       "1                     -0.022362                    -0.169965   \n",
       "2                     -0.370241                    -0.125118   \n",
       "3                     -0.578607                    -0.135234   \n",
       "4                     -0.497466                    -0.246617   \n",
       "\n",
       "   Entwicklungsrate Preis t+20  Entwicklungsrate Preis t+30  \\\n",
       "0                    -0.322701                    -0.343678   \n",
       "1                    -0.310988                    -0.356183   \n",
       "2                    -0.281185                    -0.332625   \n",
       "3                    -0.256988                    -0.303960   \n",
       "4                    -0.281860                    -0.299864   \n",
       "\n",
       "   Entwicklungsrate Preis t+40  Entwicklungsrate Preis t+50  \\\n",
       "0                    -0.350806                    -0.352104   \n",
       "1                    -0.374539                    -0.356183   \n",
       "2                    -0.340450                    -0.296378   \n",
       "3                    -0.300822                    -0.253992   \n",
       "4                    -0.297090                    -0.257006   \n",
       "\n",
       "   Entwicklungsrate Preis t+60  Entwicklungsrate Preis t+70  \\\n",
       "0                    -0.266236                    -0.252081   \n",
       "1                    -0.248180                    -0.242617   \n",
       "2                    -0.201242                    -0.180618   \n",
       "3                    -0.150355                    -0.125710   \n",
       "4                    -0.135311                    -0.092340   \n",
       "\n",
       "   Entwicklungsrate Preis t+80  Entwicklungsrate Preis t+90  Y  \n",
       "0                    -0.127110                    -0.053690 -1  \n",
       "1                    -0.113233                    -0.027610 -1  \n",
       "2                    -0.051010                     0.015919  0  \n",
       "3                     0.002911                     0.057287  0  \n",
       "4                     0.020410                     0.068052  0  "
      ]
     },
     "execution_count": 9,
     "metadata": {},
     "output_type": "execute_result"
    }
   ],
   "source": [
    "training.head()"
   ]
  },
  {
   "cell_type": "markdown",
   "metadata": {},
   "source": [
    "# 4. Splitting data in training and testing"
   ]
  },
  {
   "cell_type": "code",
   "execution_count": 10,
   "metadata": {},
   "outputs": [],
   "source": [
    "x = training[['Entwicklungsrate Preis t+10', \n",
    "              'Entwicklungsrate Preis t+20',\n",
    "              'Entwicklungsrate Preis t+30',\n",
    "              'Entwicklungsrate Preis t+40',\n",
    "              'Entwicklungsrate Preis t+50',\n",
    "              'Entwicklungsrate Preis t+60',\n",
    "              'Entwicklungsrate Preis t+70',\n",
    "              'Entwicklungsrate Preis t+80',\n",
    "              'Entwicklungsrate Preis t+90',\n",
    "              'Entwicklungsrate Volume t+10',\n",
    "              'Entwicklungsrate Volume t+20',\n",
    "              'Entwicklungsrate Volume t+30',\n",
    "              'Entwicklungsrate Volume t+40',\n",
    "              'Entwicklungsrate Volume t+50',\n",
    "              'Entwicklungsrate Volume t+60',\n",
    "              'Entwicklungsrate Volume t+70',\n",
    "              'Entwicklungsrate Volume t+80',\n",
    "              'Entwicklungsrate Volume t+90']]\n",
    "y = training['Y']"
   ]
  },
  {
   "cell_type": "code",
   "execution_count": 11,
   "metadata": {},
   "outputs": [
    {
     "data": {
      "text/plain": [
       "((105800, 18), (105800,))"
      ]
     },
     "execution_count": 11,
     "metadata": {},
     "output_type": "execute_result"
    }
   ],
   "source": [
    "x.shape, y.shape"
   ]
  },
  {
   "cell_type": "code",
   "execution_count": 12,
   "metadata": {},
   "outputs": [
    {
     "data": {
      "text/plain": [
       "Entwicklungsrate Preis t+10        1.962963\n",
       "Entwicklungsrate Preis t+20        1.923077\n",
       "Entwicklungsrate Preis t+30        4.428571\n",
       "Entwicklungsrate Preis t+40        4.071429\n",
       "Entwicklungsrate Preis t+50        5.142857\n",
       "Entwicklungsrate Preis t+60        4.928572\n",
       "Entwicklungsrate Preis t+70        5.118033\n",
       "Entwicklungsrate Preis t+80        5.462329\n",
       "Entwicklungsrate Preis t+90        4.313725\n",
       "Entwicklungsrate Volume t+10     446.000000\n",
       "Entwicklungsrate Volume t+20     866.000000\n",
       "Entwicklungsrate Volume t+30     652.000000\n",
       "Entwicklungsrate Volume t+40     932.500000\n",
       "Entwicklungsrate Volume t+50     855.000000\n",
       "Entwicklungsrate Volume t+60    1719.000000\n",
       "Entwicklungsrate Volume t+70    1089.000000\n",
       "Entwicklungsrate Volume t+80     562.000000\n",
       "Entwicklungsrate Volume t+90     637.000000\n",
       "dtype: float64"
      ]
     },
     "execution_count": 12,
     "metadata": {},
     "output_type": "execute_result"
    }
   ],
   "source": [
    "x.max()"
   ]
  },
  {
   "cell_type": "code",
   "execution_count": 13,
   "metadata": {},
   "outputs": [
    {
     "name": "stderr",
     "output_type": "stream",
     "text": [
      "C:\\Users\\Katja\\Anaconda3\\lib\\site-packages\\sklearn\\model_selection\\_split.py:2026: FutureWarning: From version 0.21, test_size will always complement train_size unless both are specified.\n",
      "  FutureWarning)\n"
     ]
    }
   ],
   "source": [
    "x_train, x_test, y_train, y_test = train_test_split(x, y, train_size=0.7, random_state=42)"
   ]
  },
  {
   "cell_type": "markdown",
   "metadata": {},
   "source": [
    "# 5. Support Vector Machine"
   ]
  },
  {
   "cell_type": "code",
   "execution_count": 14,
   "metadata": {},
   "outputs": [],
   "source": [
    "svm = svm.SVC(kernel= 'linear', C = 100, max_iter=100000000)"
   ]
  },
  {
   "cell_type": "code",
   "execution_count": 15,
   "metadata": {},
   "outputs": [
    {
     "name": "stderr",
     "output_type": "stream",
     "text": [
      "C:\\Users\\Katja\\Anaconda3\\lib\\site-packages\\sklearn\\svm\\base.py:218: ConvergenceWarning: Solver terminated early (max_iter=100000000).  Consider pre-processing your data with StandardScaler or MinMaxScaler.\n",
      "  % self.max_iter, ConvergenceWarning)\n"
     ]
    },
    {
     "data": {
      "text/plain": [
       "SVC(C=100, cache_size=200, class_weight=None, coef0=0.0,\n",
       "  decision_function_shape='ovr', degree=3, gamma='auto', kernel='linear',\n",
       "  max_iter=100000000, probability=False, random_state=None, shrinking=True,\n",
       "  tol=0.001, verbose=False)"
      ]
     },
     "execution_count": 15,
     "metadata": {},
     "output_type": "execute_result"
    }
   ],
   "source": [
    "svm.fit(x_train, y_train)"
   ]
  },
  {
   "cell_type": "code",
   "execution_count": 16,
   "metadata": {},
   "outputs": [
    {
     "data": {
      "text/plain": [
       "0.8540642722117202"
      ]
     },
     "execution_count": 16,
     "metadata": {},
     "output_type": "execute_result"
    }
   ],
   "source": [
    "svm.score(x_test, y_test)"
   ]
  },
  {
   "cell_type": "markdown",
   "metadata": {},
   "source": [
    "# 6. Linear Discriminant Analysis"
   ]
  },
  {
   "cell_type": "code",
   "execution_count": 17,
   "metadata": {},
   "outputs": [],
   "source": [
    "lda = LinearDiscriminantAnalysis(solver='lsqr', shrinkage='auto')"
   ]
  },
  {
   "cell_type": "code",
   "execution_count": 18,
   "metadata": {},
   "outputs": [
    {
     "data": {
      "text/plain": [
       "LinearDiscriminantAnalysis(n_components=None, priors=None, shrinkage='auto',\n",
       "              solver='lsqr', store_covariance=False, tol=0.0001)"
      ]
     },
     "execution_count": 18,
     "metadata": {},
     "output_type": "execute_result"
    }
   ],
   "source": [
    "lda.fit(x_train, y_train)"
   ]
  },
  {
   "cell_type": "code",
   "execution_count": 19,
   "metadata": {},
   "outputs": [
    {
     "data": {
      "text/plain": [
       "0.8511972274732199"
      ]
     },
     "execution_count": 19,
     "metadata": {},
     "output_type": "execute_result"
    }
   ],
   "source": [
    "lda.score(x_test, y_test)"
   ]
  },
  {
   "cell_type": "markdown",
   "metadata": {},
   "source": [
    "# 7. Gradient Boosting"
   ]
  },
  {
   "cell_type": "code",
   "execution_count": 20,
   "metadata": {},
   "outputs": [],
   "source": [
    "scaler = MinMaxScaler()"
   ]
  },
  {
   "cell_type": "code",
   "execution_count": 21,
   "metadata": {},
   "outputs": [
    {
     "data": {
      "text/plain": [
       "GradientBoostingClassifier(criterion='friedman_mse', init=None,\n",
       "              learning_rate=0.1, loss='deviance', max_depth=3,\n",
       "              max_features=None, max_leaf_nodes=None,\n",
       "              min_impurity_decrease=0.0, min_impurity_split=None,\n",
       "              min_samples_leaf=1, min_samples_split=2,\n",
       "              min_weight_fraction_leaf=0.0, n_estimators=10,\n",
       "              presort='auto', random_state=42, subsample=1.0, verbose=0,\n",
       "              warm_start=False)"
      ]
     },
     "execution_count": 21,
     "metadata": {},
     "output_type": "execute_result"
    }
   ],
   "source": [
    "num_trees = 10\n",
    "kfold = model_selection.KFold(n_splits=10, random_state=42)\n",
    "model = GradientBoostingClassifier(n_estimators=num_trees, random_state=42)\n",
    "model.fit(x_train, y_train)"
   ]
  },
  {
   "cell_type": "code",
   "execution_count": 22,
   "metadata": {},
   "outputs": [],
   "source": [
    "steps = [('scale', scaler), ('GB', model)]"
   ]
  },
  {
   "cell_type": "code",
   "execution_count": 23,
   "metadata": {},
   "outputs": [],
   "source": [
    "pipeline = Pipeline(steps)"
   ]
  },
  {
   "cell_type": "code",
   "execution_count": 24,
   "metadata": {},
   "outputs": [
    {
     "name": "stdout",
     "output_type": "stream",
     "text": [
      "0.9026870105320011\n"
     ]
    }
   ],
   "source": [
    "gb = model_selection.cross_val_score(pipeline, x_train, y_train, cv=kfold).mean()\n",
    "print(gb.mean())"
   ]
  },
  {
   "cell_type": "markdown",
   "metadata": {},
   "source": [
    "# 8. Random Forest"
   ]
  },
  {
   "cell_type": "code",
   "execution_count": 25,
   "metadata": {},
   "outputs": [],
   "source": [
    "rf = RandomForestClassifier(n_estimators=100, random_state=42)"
   ]
  },
  {
   "cell_type": "code",
   "execution_count": 26,
   "metadata": {},
   "outputs": [
    {
     "data": {
      "text/plain": [
       "RandomForestClassifier(bootstrap=True, class_weight=None, criterion='gini',\n",
       "            max_depth=None, max_features='auto', max_leaf_nodes=None,\n",
       "            min_impurity_decrease=0.0, min_impurity_split=None,\n",
       "            min_samples_leaf=1, min_samples_split=2,\n",
       "            min_weight_fraction_leaf=0.0, n_estimators=100, n_jobs=1,\n",
       "            oob_score=False, random_state=42, verbose=0, warm_start=False)"
      ]
     },
     "execution_count": 26,
     "metadata": {},
     "output_type": "execute_result"
    }
   ],
   "source": [
    "rf.fit(x_train, y_train)"
   ]
  },
  {
   "cell_type": "code",
   "execution_count": 27,
   "metadata": {},
   "outputs": [
    {
     "data": {
      "text/plain": [
       "0.9165406427221172"
      ]
     },
     "execution_count": 27,
     "metadata": {},
     "output_type": "execute_result"
    }
   ],
   "source": [
    "rf.score(x_test, y_test)"
   ]
  },
  {
   "cell_type": "markdown",
   "metadata": {},
   "source": [
    "# 9. KNN"
   ]
  },
  {
   "cell_type": "code",
   "execution_count": 28,
   "metadata": {},
   "outputs": [],
   "source": [
    "knn = KNeighborsClassifier()"
   ]
  },
  {
   "cell_type": "code",
   "execution_count": 29,
   "metadata": {},
   "outputs": [
    {
     "data": {
      "text/plain": [
       "KNeighborsClassifier(algorithm='auto', leaf_size=30, metric='minkowski',\n",
       "           metric_params=None, n_jobs=1, n_neighbors=5, p=2,\n",
       "           weights='uniform')"
      ]
     },
     "execution_count": 29,
     "metadata": {},
     "output_type": "execute_result"
    }
   ],
   "source": [
    "knn.fit(x_train, y_train)"
   ]
  },
  {
   "cell_type": "code",
   "execution_count": 30,
   "metadata": {},
   "outputs": [
    {
     "data": {
      "text/plain": [
       "0.7981726528040327"
      ]
     },
     "execution_count": 30,
     "metadata": {},
     "output_type": "execute_result"
    }
   ],
   "source": [
    "knn.score(x_test, y_test)"
   ]
  },
  {
   "cell_type": "markdown",
   "metadata": {},
   "source": [
    "# 10. Result"
   ]
  },
  {
   "cell_type": "markdown",
   "metadata": {},
   "source": [
    "The accuracy could be significantly improved by including time courses. The best result gives random forest. In compare to \"internal data without time courses\" an improvement of ca. 11 % is given for random forest. Already now there are very high running times of approx. 3 hours for this notebook.\n",
    "\n",
    "Only by trying out the best possible parameters for the sklearn methods were determined in this iteration. With the help of Grid Search the best possible parameters can be determined automatically. Therefore, the best possible parameter input is determined in the 2nd iteration for a selection of tickers with KNN and Grid Search."
   ]
  }
 ],
 "metadata": {
  "kernelspec": {
   "display_name": "Python 3",
   "language": "python",
   "name": "python3"
  },
  "language_info": {
   "codemirror_mode": {
    "name": "ipython",
    "version": 3
   },
   "file_extension": ".py",
   "mimetype": "text/x-python",
   "name": "python",
   "nbconvert_exporter": "python",
   "pygments_lexer": "ipython3",
   "version": "3.6.5"
  }
 },
 "nbformat": 4,
 "nbformat_minor": 2
}
