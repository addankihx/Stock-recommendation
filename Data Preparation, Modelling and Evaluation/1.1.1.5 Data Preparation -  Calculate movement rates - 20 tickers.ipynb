{
 "cells": [
  {
   "cell_type": "markdown",
   "metadata": {},
   "source": [
    "# Data Preparation - Calculate movement rates for 20 ticker"
   ]
  },
  {
   "cell_type": "markdown",
   "metadata": {},
   "source": [
    "This notebook is used to prepare the data in the same way as the file \"1.1.1 Data Preparation - Calculate movement rates - single ticker\", but instead of one ticker this file will now increase the number of tickers from one to 20.\n",
    "\n",
    "The idea behind this is to generate more data from where the sklearn models can learn from."
   ]
  },
  {
   "cell_type": "markdown",
   "metadata": {},
   "source": [
    "# Content\n",
    "\n",
    " 1. Import dependencies\n",
    " 2. Load data\n",
    " 3. Define tickers\n",
    " 4. Calculate movement rates and safe dataframe"
   ]
  },
  {
   "cell_type": "markdown",
   "metadata": {},
   "source": [
    "<hr>"
   ]
  },
  {
   "cell_type": "markdown",
   "metadata": {},
   "source": [
    "# 1. Import dependencies"
   ]
  },
  {
   "cell_type": "code",
   "execution_count": 2,
   "metadata": {},
   "outputs": [],
   "source": [
    "import numpy as np\n",
    "import matplotlib.pyplot as plt\n",
    "import pandas as pd\n",
    "from pandas import Series\n",
    "from sklearn import preprocessing\n",
    "from  pandas  import  DataFrame \n",
    "from  pandas  import  concat \n",
    "\n",
    "%matplotlib inline"
   ]
  },
  {
   "cell_type": "markdown",
   "metadata": {},
   "source": [
    "# 2. Load data"
   ]
  },
  {
   "cell_type": "markdown",
   "metadata": {},
   "source": [
    "#### Define function for convert our series to supervised learning using DataFrame.shift"
   ]
  },
  {
   "cell_type": "code",
   "execution_count": 3,
   "metadata": {},
   "outputs": [],
   "source": [
    "def series_to_supervised(data, n_in=1, n_out=1, dropnan=True):\n",
    "\tn_vars = 1 if type(data) is list else data.shape[1]\n",
    "\tdf = DataFrame(data)\n",
    "\tcols, names = list(), list()\n",
    "\t# input sequence (t-n, ... t-1)\n",
    "\tfor i in range(n_in, 0, -1):\n",
    "\t\tcols.append(df.shift(i))\n",
    "\t\tnames += [('var%d(t-%d)' % (j+1, i)) for j in range(n_vars)]\n",
    "\t# forecast sequence (t, t+1, ... t+n)\n",
    "\tfor i in range(0, n_out):\n",
    "\t\tcols.append(df.shift(-i))\n",
    "\t\tif i == 0:\n",
    "\t\t\tnames += [('var%d(t)' % (j+1)) for j in range(n_vars)]\n",
    "\t\telse:\n",
    "\t\t\tnames += [('var%d(t+%d)' % (j+1, i)) for j in range(n_vars)]\n",
    "\t# put it all together\n",
    "\tagg = concat(cols, axis=1)\n",
    "\tagg.columns = names\n",
    "\t# drop rows with NaN values\n",
    "\tif dropnan:\n",
    "\t\tagg.dropna(inplace=True)\n",
    "\treturn agg"
   ]
  },
  {
   "cell_type": "markdown",
   "metadata": {},
   "source": [
    "# 3. Define tickers"
   ]
  },
  {
   "cell_type": "markdown",
   "metadata": {},
   "source": [
    "The following tickers are selected per random choice"
   ]
  },
  {
   "cell_type": "code",
   "execution_count": 4,
   "metadata": {},
   "outputs": [],
   "source": [
    "tickers = ['AAPL','IBM','ASNA','CAT','EXPE','GME','IMO','MCO','PLD','GT','XYL','WTR','WFT','UNH','GPS','TMO',\n",
    "          'JNJ','AMZN','HOG','CBB']"
   ]
  },
  {
   "cell_type": "markdown",
   "metadata": {},
   "source": [
    "# 4. Calculate movement rates and safe dataframe"
   ]
  },
  {
   "cell_type": "code",
   "execution_count": 5,
   "metadata": {},
   "outputs": [
    {
     "name": "stdout",
     "output_type": "stream",
     "text": [
      "AAPL\n",
      "(2518, 19)\n",
      "(2518, 19)\n",
      "IBM\n",
      "(2518, 19)\n",
      "(5036, 19)\n",
      "ASNA\n",
      "(2518, 19)\n",
      "(7554, 19)\n",
      "CAT\n",
      "(2518, 19)\n",
      "(10072, 19)\n",
      "EXPE\n",
      "(2518, 19)\n",
      "(12590, 19)\n",
      "GME\n",
      "(2518, 19)\n",
      "(15108, 19)\n",
      "IMO\n",
      "(2518, 19)\n",
      "(17626, 19)\n",
      "MCO\n",
      "(2518, 19)\n",
      "(20144, 19)\n",
      "PLD\n",
      "(2518, 19)\n",
      "(22662, 19)\n",
      "GT\n",
      "(2518, 19)\n",
      "(25180, 19)\n",
      "XYL\n",
      "(1564, 19)\n",
      "(26744, 19)\n",
      "WTR\n",
      "(2518, 19)\n",
      "(29262, 19)\n",
      "WFT\n",
      "(2518, 19)\n",
      "(31780, 19)\n",
      "UNH\n",
      "(2518, 19)\n",
      "(34298, 19)\n",
      "GPS\n",
      "(2518, 19)\n",
      "(36816, 19)\n",
      "TMO\n",
      "(2518, 19)\n",
      "(39334, 19)\n",
      "JNJ\n",
      "(2518, 19)\n",
      "(41852, 19)\n",
      "AMZN\n",
      "(2518, 19)\n",
      "(44370, 19)\n",
      "HOG\n",
      "(2518, 19)\n",
      "(46888, 19)\n",
      "CBB\n",
      "(2518, 19)\n",
      "(49406, 19)\n",
      "Abgeschlossen\n"
     ]
    }
   ],
   "source": [
    "liste = []\n",
    "new_xx_df = pd.DataFrame(liste,columns=[\"Entwicklungsrate Volume t+10\",\"Entwicklungsrate Volume t+20\",\n",
    "                                        \"Entwicklungsrate Volume t+30\",\"Entwicklungsrate Volume t+40\",\n",
    "                                        \"Entwicklungsrate Volume t+50\",\"Entwicklungsrate Volume t+60\",\n",
    "                                        \"Entwicklungsrate Volume t+70\",\"Entwicklungsrate Volume t+80\",\n",
    "                                        \"Entwicklungsrate Volume t+90\",\"Entwicklungsrate Preis t+10\",\n",
    "                                        \"Entwicklungsrate Preis t+20\",\"Entwicklungsrate Preis t+30\",\n",
    "                                        \"Entwicklungsrate Preis t+40\",\"Entwicklungsrate Preis t+50\",\n",
    "                                        \"Entwicklungsrate Preis t+60\",\"Entwicklungsrate Preis t+70\",\n",
    "                                        \"Entwicklungsrate Preis t+80\",\"Entwicklungsrate Preis t+90\",'Y'])\n",
    "for x in range(0,len(tickers)):\n",
    "    ticker = tickers[x]\n",
    "    print(ticker)\n",
    "    \n",
    "    df_ticker = pd.read_csv(\"data/stocks/\" + ticker + \".csv\")\n",
    "    df_ticker.columns = ['Date','Open','Close','Low','High','Volume']\n",
    "\n",
    "    df_ticker['Mid_prices'] = (df_ticker.Low + df_ticker.High) / 2\n",
    "    df_for_midprices = df_ticker.copy(deep=True)\n",
    "    df_midprices = df_for_midprices.drop(['Date','Open','High','Low','Close','Volume'], axis=1)\n",
    "\n",
    "    midprices = df_midprices.values\n",
    "    reframed_midprices = series_to_supervised(midprices, 0, 91)\n",
    "\n",
    "    # Calculate values\n",
    "    entwicklungsrate_midprices_10 = (1/reframed_midprices['var1(t)']*reframed_midprices['var1(t+10)'])-1\n",
    "    entwicklungsrate_midprices_20 = (1/reframed_midprices['var1(t)']*reframed_midprices['var1(t+20)'])-1\n",
    "    entwicklungsrate_midprices_30 = (1/reframed_midprices['var1(t)']*reframed_midprices['var1(t+30)'])-1\n",
    "    entwicklungsrate_midprices_40 = (1/reframed_midprices['var1(t)']*reframed_midprices['var1(t+40)'])-1\n",
    "    entwicklungsrate_midprices_50 = (1/reframed_midprices['var1(t)']*reframed_midprices['var1(t+50)'])-1\n",
    "    entwicklungsrate_midprices_60 = (1/reframed_midprices['var1(t)']*reframed_midprices['var1(t+60)'])-1\n",
    "    entwicklungsrate_midprices_70 = (1/reframed_midprices['var1(t)']*reframed_midprices['var1(t+70)'])-1\n",
    "    entwicklungsrate_midprices_80 = (1/reframed_midprices['var1(t)']*reframed_midprices['var1(t+80)'])-1\n",
    "    entwicklungsrate_midprices_90 = (1/reframed_midprices['var1(t)']*reframed_midprices['var1(t+90)'])-1\n",
    "\n",
    "    df_for_midprices['Entwicklungsrate Preis t+10'] = entwicklungsrate_midprices_10\n",
    "    df_for_midprices['Entwicklungsrate Preis t+20'] = entwicklungsrate_midprices_20\n",
    "    df_for_midprices['Entwicklungsrate Preis t+30'] = entwicklungsrate_midprices_30\n",
    "    df_for_midprices['Entwicklungsrate Preis t+40'] = entwicklungsrate_midprices_40\n",
    "    df_for_midprices['Entwicklungsrate Preis t+50'] = entwicklungsrate_midprices_50\n",
    "    df_for_midprices['Entwicklungsrate Preis t+60'] = entwicklungsrate_midprices_60\n",
    "    df_for_midprices['Entwicklungsrate Preis t+70'] = entwicklungsrate_midprices_70\n",
    "    df_for_midprices['Entwicklungsrate Preis t+80'] = entwicklungsrate_midprices_80\n",
    "    df_for_midprices['Entwicklungsrate Preis t+90'] = entwicklungsrate_midprices_90\n",
    "    df_for_midprices = df_for_midprices.drop(['Open','High','Low','Close','Volume','Mid_prices'], axis=1)\n",
    "\n",
    "    df_for_volumes = df_ticker.copy(deep=True)\n",
    "    df_volumes = df_for_volumes.drop(['Date','Open','High','Low','Close','Mid_prices'], axis=1)\n",
    "\n",
    "    volumes = df_volumes.values\n",
    "    reframed_volumes = series_to_supervised(volumes, 0, 91)\n",
    "\n",
    "    entwicklungsrate_volumes_10 = (1/reframed_volumes['var1(t)']*reframed_volumes['var1(t+10)'])-1\n",
    "    entwicklungsrate_volumes_20 = (1/reframed_volumes['var1(t)']*reframed_volumes['var1(t+20)'])-1\n",
    "    entwicklungsrate_volumes_30 = (1/reframed_volumes['var1(t)']*reframed_volumes['var1(t+30)'])-1\n",
    "    entwicklungsrate_volumes_40 = (1/reframed_volumes['var1(t)']*reframed_volumes['var1(t+40)'])-1\n",
    "    entwicklungsrate_volumes_50 = (1/reframed_volumes['var1(t)']*reframed_volumes['var1(t+50)'])-1\n",
    "    entwicklungsrate_volumes_60 = (1/reframed_volumes['var1(t)']*reframed_volumes['var1(t+60)'])-1\n",
    "    entwicklungsrate_volumes_70 = (1/reframed_volumes['var1(t)']*reframed_volumes['var1(t+70)'])-1\n",
    "    entwicklungsrate_volumes_80 = (1/reframed_volumes['var1(t)']*reframed_volumes['var1(t+80)'])-1\n",
    "    entwicklungsrate_volumes_90 = (1/reframed_volumes['var1(t)']*reframed_volumes['var1(t+90)'])-1\n",
    "\n",
    "    df_for_volumes['Entwicklungsrate Volume t+10'] = entwicklungsrate_volumes_10\n",
    "    df_for_volumes['Entwicklungsrate Volume t+20'] = entwicklungsrate_volumes_20\n",
    "    df_for_volumes['Entwicklungsrate Volume t+30'] = entwicklungsrate_volumes_30\n",
    "    df_for_volumes['Entwicklungsrate Volume t+40'] = entwicklungsrate_volumes_40\n",
    "    df_for_volumes['Entwicklungsrate Volume t+50'] = entwicklungsrate_volumes_50\n",
    "    df_for_volumes['Entwicklungsrate Volume t+60'] = entwicklungsrate_volumes_60\n",
    "    df_for_volumes['Entwicklungsrate Volume t+70'] = entwicklungsrate_volumes_70\n",
    "    df_for_volumes['Entwicklungsrate Volume t+80'] = entwicklungsrate_volumes_80\n",
    "    df_for_volumes['Entwicklungsrate Volume t+90'] = entwicklungsrate_volumes_90\n",
    "    df_for_volumes = df_for_volumes.drop(['Open','High','Low','Close','Volume','Mid_prices'], axis=1)\n",
    "\n",
    "    merged_df = pd.merge(df_for_volumes,df_for_midprices,on='Date')\n",
    "\n",
    "\n",
    "    df_train_label = pd.read_csv('data/labels_train.csv', header=0, index_col=0)\n",
    "    \n",
    "      \n",
    "    df_train_label = df_train_label.loc[:, df_train_label.columns.intersection([ticker])]\n",
    "    \n",
    "                                      \n",
    "    df_train_label.columns = ['Y']\n",
    "\n",
    "\n",
    "    df_complete = pd.merge(merged_df,df_train_label[['Y']],on='Date')\n",
    "    df_complete = df_complete.sort_values('Date')\n",
    "    df_complete = df_complete.drop('Date', axis=1)\n",
    "    print(df_complete.shape)\n",
    "    \n",
    "    \n",
    "    new_xx_df = new_xx_df.append(df_complete)\n",
    "    print(new_xx_df.shape)\n",
    "    \n",
    "\n",
    "# Save dataframe as csv file\n",
    "new_xx_df.to_csv('Prepared data/Training_set-sklearn_20 Ticker.csv', encoding='utf-8')\n",
    "\n",
    "print(\"Abgeschlossen\") \n"
   ]
  }
 ],
 "metadata": {
  "kernelspec": {
   "display_name": "Python 3",
   "language": "python",
   "name": "python3"
  },
  "language_info": {
   "codemirror_mode": {
    "name": "ipython",
    "version": 3
   },
   "file_extension": ".py",
   "mimetype": "text/x-python",
   "name": "python",
   "nbconvert_exporter": "python",
   "pygments_lexer": "ipython3",
   "version": "3.6.8"
  }
 },
 "nbformat": 4,
 "nbformat_minor": 2
}
