{
 "cells": [
  {
   "cell_type": "markdown",
   "metadata": {},
   "source": [
    "# Data preperation of internal data without time courses"
   ]
  },
  {
   "cell_type": "markdown",
   "metadata": {},
   "source": [
    "This notebook prepares the data for training and testing. For this purpose the file with the recommendations for action is merged with the ticker data. In order to avoid long loading times, only one ticker is used in the first iteration. In the following the ticker AAPL is used."
   ]
  },
  {
   "cell_type": "markdown",
   "metadata": {},
   "source": [
    "# Content\n",
    "1. Import dependencies\n",
    "2. Helpers\n",
    "3. Load file with action recommendations\n",
    "4. Load ticker data using AAPL as an example\n",
    "5. Normalization of ticker data\n",
    "6. Bringing together ticker data and action recommendations"
   ]
  },
  {
   "cell_type": "markdown",
   "metadata": {},
   "source": [
    "<hr>"
   ]
  },
  {
   "cell_type": "markdown",
   "metadata": {},
   "source": [
    "# 1. Import dependencies"
   ]
  },
  {
   "cell_type": "code",
   "execution_count": 2,
   "metadata": {},
   "outputs": [],
   "source": [
    "import numpy as np\n",
    "import pandas as pd\n",
    "import datetime"
   ]
  },
  {
   "cell_type": "markdown",
   "metadata": {},
   "source": [
    "# 2. Helpers"
   ]
  },
  {
   "cell_type": "code",
   "execution_count": 3,
   "metadata": {},
   "outputs": [],
   "source": [
    "# Different datatypes lead to problems. To obtain the correct data types, the following function can be used.\n",
    "def convertToUsefulDatatypes(df):\n",
    "    for column in df:\n",
    "        if column == \"Date\":\n",
    "            df[column] = pd.to_datetime(df[column])\n",
    "        else:\n",
    "            df[column] = pd.to_numeric(df[column])\n",
    "    return df"
   ]
  },
  {
   "cell_type": "markdown",
   "metadata": {},
   "source": [
    "# 3. Load file with action recommendations"
   ]
  },
  {
   "cell_type": "code",
   "execution_count": 4,
   "metadata": {},
   "outputs": [],
   "source": [
    "train = pd.read_csv('data/labels_train.csv', sep=',', decimal=',')\n",
    "train = convertToUsefulDatatypes(train)"
   ]
  },
  {
   "cell_type": "code",
   "execution_count": 5,
   "metadata": {},
   "outputs": [
    {
     "data": {
      "text/plain": [
       "(2518, 836)"
      ]
     },
     "execution_count": 5,
     "metadata": {},
     "output_type": "execute_result"
    }
   ],
   "source": [
    "train.shape"
   ]
  },
  {
   "cell_type": "code",
   "execution_count": 6,
   "metadata": {},
   "outputs": [
    {
     "data": {
      "text/html": [
       "<div>\n",
       "<style scoped>\n",
       "    .dataframe tbody tr th:only-of-type {\n",
       "        vertical-align: middle;\n",
       "    }\n",
       "\n",
       "    .dataframe tbody tr th {\n",
       "        vertical-align: top;\n",
       "    }\n",
       "\n",
       "    .dataframe thead th {\n",
       "        text-align: right;\n",
       "    }\n",
       "</style>\n",
       "<table border=\"1\" class=\"dataframe\">\n",
       "  <thead>\n",
       "    <tr style=\"text-align: right;\">\n",
       "      <th></th>\n",
       "      <th>Date</th>\n",
       "      <th>A</th>\n",
       "      <th>AAN</th>\n",
       "      <th>AAP</th>\n",
       "      <th>AAPL</th>\n",
       "      <th>AAXN</th>\n",
       "      <th>ABC</th>\n",
       "      <th>ABCD</th>\n",
       "      <th>ABG</th>\n",
       "      <th>ABM</th>\n",
       "      <th>...</th>\n",
       "      <th>XEL</th>\n",
       "      <th>XOM</th>\n",
       "      <th>XPO</th>\n",
       "      <th>XRAY</th>\n",
       "      <th>XRX</th>\n",
       "      <th>XSPY</th>\n",
       "      <th>XYL</th>\n",
       "      <th>Y</th>\n",
       "      <th>YELP</th>\n",
       "      <th>ZBH</th>\n",
       "    </tr>\n",
       "  </thead>\n",
       "  <tbody>\n",
       "    <tr>\n",
       "      <th>0</th>\n",
       "      <td>2008-01-02</td>\n",
       "      <td>0</td>\n",
       "      <td>1</td>\n",
       "      <td>0</td>\n",
       "      <td>-1</td>\n",
       "      <td>-1</td>\n",
       "      <td>0</td>\n",
       "      <td>0</td>\n",
       "      <td>0</td>\n",
       "      <td>0</td>\n",
       "      <td>...</td>\n",
       "      <td>0</td>\n",
       "      <td>0</td>\n",
       "      <td>0</td>\n",
       "      <td>0</td>\n",
       "      <td>0</td>\n",
       "      <td>0</td>\n",
       "      <td>0</td>\n",
       "      <td>0</td>\n",
       "      <td>0</td>\n",
       "      <td>1</td>\n",
       "    </tr>\n",
       "    <tr>\n",
       "      <th>1</th>\n",
       "      <td>2008-01-03</td>\n",
       "      <td>0</td>\n",
       "      <td>1</td>\n",
       "      <td>0</td>\n",
       "      <td>-1</td>\n",
       "      <td>-1</td>\n",
       "      <td>0</td>\n",
       "      <td>0</td>\n",
       "      <td>0</td>\n",
       "      <td>0</td>\n",
       "      <td>...</td>\n",
       "      <td>0</td>\n",
       "      <td>0</td>\n",
       "      <td>0</td>\n",
       "      <td>0</td>\n",
       "      <td>0</td>\n",
       "      <td>0</td>\n",
       "      <td>0</td>\n",
       "      <td>0</td>\n",
       "      <td>0</td>\n",
       "      <td>1</td>\n",
       "    </tr>\n",
       "    <tr>\n",
       "      <th>2</th>\n",
       "      <td>2008-01-04</td>\n",
       "      <td>0</td>\n",
       "      <td>1</td>\n",
       "      <td>0</td>\n",
       "      <td>0</td>\n",
       "      <td>-1</td>\n",
       "      <td>0</td>\n",
       "      <td>0</td>\n",
       "      <td>0</td>\n",
       "      <td>0</td>\n",
       "      <td>...</td>\n",
       "      <td>0</td>\n",
       "      <td>0</td>\n",
       "      <td>0</td>\n",
       "      <td>0</td>\n",
       "      <td>0</td>\n",
       "      <td>0</td>\n",
       "      <td>0</td>\n",
       "      <td>0</td>\n",
       "      <td>0</td>\n",
       "      <td>0</td>\n",
       "    </tr>\n",
       "    <tr>\n",
       "      <th>3</th>\n",
       "      <td>2008-01-07</td>\n",
       "      <td>0</td>\n",
       "      <td>1</td>\n",
       "      <td>0</td>\n",
       "      <td>0</td>\n",
       "      <td>-1</td>\n",
       "      <td>0</td>\n",
       "      <td>0</td>\n",
       "      <td>0</td>\n",
       "      <td>0</td>\n",
       "      <td>...</td>\n",
       "      <td>0</td>\n",
       "      <td>0</td>\n",
       "      <td>0</td>\n",
       "      <td>0</td>\n",
       "      <td>0</td>\n",
       "      <td>0</td>\n",
       "      <td>0</td>\n",
       "      <td>0</td>\n",
       "      <td>0</td>\n",
       "      <td>0</td>\n",
       "    </tr>\n",
       "    <tr>\n",
       "      <th>4</th>\n",
       "      <td>2008-01-08</td>\n",
       "      <td>0</td>\n",
       "      <td>1</td>\n",
       "      <td>0</td>\n",
       "      <td>0</td>\n",
       "      <td>-1</td>\n",
       "      <td>0</td>\n",
       "      <td>0</td>\n",
       "      <td>0</td>\n",
       "      <td>0</td>\n",
       "      <td>...</td>\n",
       "      <td>0</td>\n",
       "      <td>0</td>\n",
       "      <td>0</td>\n",
       "      <td>0</td>\n",
       "      <td>0</td>\n",
       "      <td>0</td>\n",
       "      <td>0</td>\n",
       "      <td>0</td>\n",
       "      <td>0</td>\n",
       "      <td>0</td>\n",
       "    </tr>\n",
       "  </tbody>\n",
       "</table>\n",
       "<p>5 rows × 836 columns</p>\n",
       "</div>"
      ],
      "text/plain": [
       "        Date  A  AAN  AAP  AAPL  AAXN  ABC  ABCD  ABG  ABM ...   XEL  XOM  \\\n",
       "0 2008-01-02  0    1    0    -1    -1    0     0    0    0 ...     0    0   \n",
       "1 2008-01-03  0    1    0    -1    -1    0     0    0    0 ...     0    0   \n",
       "2 2008-01-04  0    1    0     0    -1    0     0    0    0 ...     0    0   \n",
       "3 2008-01-07  0    1    0     0    -1    0     0    0    0 ...     0    0   \n",
       "4 2008-01-08  0    1    0     0    -1    0     0    0    0 ...     0    0   \n",
       "\n",
       "   XPO  XRAY  XRX  XSPY  XYL  Y  YELP  ZBH  \n",
       "0    0     0    0     0    0  0     0    1  \n",
       "1    0     0    0     0    0  0     0    1  \n",
       "2    0     0    0     0    0  0     0    0  \n",
       "3    0     0    0     0    0  0     0    0  \n",
       "4    0     0    0     0    0  0     0    0  \n",
       "\n",
       "[5 rows x 836 columns]"
      ]
     },
     "execution_count": 6,
     "metadata": {},
     "output_type": "execute_result"
    }
   ],
   "source": [
    "train.head()"
   ]
  },
  {
   "cell_type": "markdown",
   "metadata": {},
   "source": [
    "# 4. Load ticker data using AAPL as an example"
   ]
  },
  {
   "cell_type": "code",
   "execution_count": 7,
   "metadata": {},
   "outputs": [],
   "source": [
    "aapl= pd.read_csv('data/stocks/AAPL.csv', sep=',', decimal=',')\n",
    "aapl = convertToUsefulDatatypes(aapl)"
   ]
  },
  {
   "cell_type": "code",
   "execution_count": 8,
   "metadata": {},
   "outputs": [
    {
     "data": {
      "text/plain": [
       "(2736, 6)"
      ]
     },
     "execution_count": 8,
     "metadata": {},
     "output_type": "execute_result"
    }
   ],
   "source": [
    "aapl.shape"
   ]
  },
  {
   "cell_type": "code",
   "execution_count": 9,
   "metadata": {},
   "outputs": [
    {
     "data": {
      "text/html": [
       "<div>\n",
       "<style scoped>\n",
       "    .dataframe tbody tr th:only-of-type {\n",
       "        vertical-align: middle;\n",
       "    }\n",
       "\n",
       "    .dataframe tbody tr th {\n",
       "        vertical-align: top;\n",
       "    }\n",
       "\n",
       "    .dataframe thead th {\n",
       "        text-align: right;\n",
       "    }\n",
       "</style>\n",
       "<table border=\"1\" class=\"dataframe\">\n",
       "  <thead>\n",
       "    <tr style=\"text-align: right;\">\n",
       "      <th></th>\n",
       "      <th>Date</th>\n",
       "      <th>aaplopen</th>\n",
       "      <th>aaplclose</th>\n",
       "      <th>aapllow</th>\n",
       "      <th>aaplhigh</th>\n",
       "      <th>aaplvolume</th>\n",
       "    </tr>\n",
       "  </thead>\n",
       "  <tbody>\n",
       "    <tr>\n",
       "      <th>0</th>\n",
       "      <td>2008-01-02</td>\n",
       "      <td>28.467142</td>\n",
       "      <td>27.834286</td>\n",
       "      <td>27.507143</td>\n",
       "      <td>28.608572</td>\n",
       "      <td>269794700.0</td>\n",
       "    </tr>\n",
       "    <tr>\n",
       "      <th>1</th>\n",
       "      <td>2008-01-03</td>\n",
       "      <td>27.915714</td>\n",
       "      <td>27.847143</td>\n",
       "      <td>27.527143</td>\n",
       "      <td>28.198572</td>\n",
       "      <td>210516600.0</td>\n",
       "    </tr>\n",
       "    <tr>\n",
       "      <th>2</th>\n",
       "      <td>2008-01-04</td>\n",
       "      <td>27.350000</td>\n",
       "      <td>25.721428</td>\n",
       "      <td>25.555714</td>\n",
       "      <td>27.571428</td>\n",
       "      <td>363958000.0</td>\n",
       "    </tr>\n",
       "    <tr>\n",
       "      <th>3</th>\n",
       "      <td>2008-01-07</td>\n",
       "      <td>25.892857</td>\n",
       "      <td>25.377142</td>\n",
       "      <td>24.318571</td>\n",
       "      <td>26.228571</td>\n",
       "      <td>518048300.0</td>\n",
       "    </tr>\n",
       "    <tr>\n",
       "      <th>4</th>\n",
       "      <td>2008-01-08</td>\n",
       "      <td>25.734285</td>\n",
       "      <td>24.464285</td>\n",
       "      <td>24.400000</td>\n",
       "      <td>26.065714</td>\n",
       "      <td>380954000.0</td>\n",
       "    </tr>\n",
       "  </tbody>\n",
       "</table>\n",
       "</div>"
      ],
      "text/plain": [
       "        Date   aaplopen  aaplclose    aapllow   aaplhigh   aaplvolume\n",
       "0 2008-01-02  28.467142  27.834286  27.507143  28.608572  269794700.0\n",
       "1 2008-01-03  27.915714  27.847143  27.527143  28.198572  210516600.0\n",
       "2 2008-01-04  27.350000  25.721428  25.555714  27.571428  363958000.0\n",
       "3 2008-01-07  25.892857  25.377142  24.318571  26.228571  518048300.0\n",
       "4 2008-01-08  25.734285  24.464285  24.400000  26.065714  380954000.0"
      ]
     },
     "execution_count": 9,
     "metadata": {},
     "output_type": "execute_result"
    }
   ],
   "source": [
    "aapl.head()"
   ]
  },
  {
   "cell_type": "markdown",
   "metadata": {},
   "source": [
    "# 5. Normalization of ticker data"
   ]
  },
  {
   "cell_type": "markdown",
   "metadata": {},
   "source": [
    "### In order to avoid inconsistencies, a normalization is subsequently performed. Date fields are excluded from normalization. The result of training and testing is achieved by approx. 10 % through normalization. "
   ]
  },
  {
   "cell_type": "code",
   "execution_count": 10,
   "metadata": {},
   "outputs": [],
   "source": [
    "def normalize(x, col_min, col_max):\n",
    "    return (2.0 * x - col_max - col_min) / (col_max - col_min)"
   ]
  },
  {
   "cell_type": "code",
   "execution_count": 11,
   "metadata": {},
   "outputs": [],
   "source": [
    "def normalizeList(col, col_min=None, col_max=None):\n",
    "    if (col_min == None):\n",
    "        col_min = min(col)\n",
    "    if (col_max == None):\n",
    "        col_max = max(col)\n",
    "    \n",
    "    return [normalize(x, col_min, col_max) for x in col]"
   ]
  },
  {
   "cell_type": "code",
   "execution_count": 12,
   "metadata": {},
   "outputs": [],
   "source": [
    "def normalizeDataframe(df, min_max_df=None):\n",
    "    if (min_max_df == None):\n",
    "        min_max_df = pd.DataFrame(index=['min', 'max'])\n",
    "        for column in df:\n",
    "            if (column != 'Date'):\n",
    "                col_min = min(df[column])\n",
    "                col_max = max(df[column])\n",
    "                min_max_df[column] = pd.Series([col_min, col_max], index = min_max_df.index)\n",
    "    \n",
    "    for column in df:\n",
    "        if (column != 'Date'):\n",
    "            norm_list = normalizeList(df[column].tolist(), min_max_df[column][0], min_max_df[column][1])\n",
    "            df[column] = pd.Series(norm_list, index = df.index)\n",
    "            \n",
    "    return df"
   ]
  },
  {
   "cell_type": "code",
   "execution_count": 13,
   "metadata": {},
   "outputs": [
    {
     "data": {
      "text/html": [
       "<div>\n",
       "<style scoped>\n",
       "    .dataframe tbody tr th:only-of-type {\n",
       "        vertical-align: middle;\n",
       "    }\n",
       "\n",
       "    .dataframe tbody tr th {\n",
       "        vertical-align: top;\n",
       "    }\n",
       "\n",
       "    .dataframe thead th {\n",
       "        text-align: right;\n",
       "    }\n",
       "</style>\n",
       "<table border=\"1\" class=\"dataframe\">\n",
       "  <thead>\n",
       "    <tr style=\"text-align: right;\">\n",
       "      <th></th>\n",
       "      <th>Date</th>\n",
       "      <th>aaplopen</th>\n",
       "      <th>aaplclose</th>\n",
       "      <th>aapllow</th>\n",
       "      <th>aaplhigh</th>\n",
       "      <th>aaplvolume</th>\n",
       "    </tr>\n",
       "  </thead>\n",
       "  <tbody>\n",
       "    <tr>\n",
       "      <th>0</th>\n",
       "      <td>2008-01-02</td>\n",
       "      <td>-0.843913</td>\n",
       "      <td>-0.849136</td>\n",
       "      <td>-0.850548</td>\n",
       "      <td>-0.847632</td>\n",
       "      <td>-0.378867</td>\n",
       "    </tr>\n",
       "    <tr>\n",
       "      <th>1</th>\n",
       "      <td>2008-01-03</td>\n",
       "      <td>-0.848939</td>\n",
       "      <td>-0.849019</td>\n",
       "      <td>-0.850365</td>\n",
       "      <td>-0.851329</td>\n",
       "      <td>-0.521402</td>\n",
       "    </tr>\n",
       "    <tr>\n",
       "      <th>2</th>\n",
       "      <td>2008-01-04</td>\n",
       "      <td>-0.854095</td>\n",
       "      <td>-0.868265</td>\n",
       "      <td>-0.868401</td>\n",
       "      <td>-0.856985</td>\n",
       "      <td>-0.152449</td>\n",
       "    </tr>\n",
       "    <tr>\n",
       "      <th>3</th>\n",
       "      <td>2008-01-07</td>\n",
       "      <td>-0.867376</td>\n",
       "      <td>-0.871382</td>\n",
       "      <td>-0.879720</td>\n",
       "      <td>-0.869097</td>\n",
       "      <td>0.218064</td>\n",
       "    </tr>\n",
       "    <tr>\n",
       "      <th>4</th>\n",
       "      <td>2008-01-08</td>\n",
       "      <td>-0.868821</td>\n",
       "      <td>-0.879647</td>\n",
       "      <td>-0.878975</td>\n",
       "      <td>-0.870565</td>\n",
       "      <td>-0.111582</td>\n",
       "    </tr>\n",
       "  </tbody>\n",
       "</table>\n",
       "</div>"
      ],
      "text/plain": [
       "        Date  aaplopen  aaplclose   aapllow  aaplhigh  aaplvolume\n",
       "0 2008-01-02 -0.843913  -0.849136 -0.850548 -0.847632   -0.378867\n",
       "1 2008-01-03 -0.848939  -0.849019 -0.850365 -0.851329   -0.521402\n",
       "2 2008-01-04 -0.854095  -0.868265 -0.868401 -0.856985   -0.152449\n",
       "3 2008-01-07 -0.867376  -0.871382 -0.879720 -0.869097    0.218064\n",
       "4 2008-01-08 -0.868821  -0.879647 -0.878975 -0.870565   -0.111582"
      ]
     },
     "execution_count": 13,
     "metadata": {},
     "output_type": "execute_result"
    }
   ],
   "source": [
    "aapl_norm = normalizeDataframe(aapl)\n",
    "aapl_norm.head()"
   ]
  },
  {
   "cell_type": "markdown",
   "metadata": {},
   "source": [
    "# 6. Bringing together ticker data and action recommendations"
   ]
  },
  {
   "cell_type": "code",
   "execution_count": 14,
   "metadata": {},
   "outputs": [],
   "source": [
    "# Data is merged by date. Since the date is not a fixed indicator, the date is omitted from the output.\n",
    "merged = train.merge(aapl_norm, on='Date')\n",
    "merged = merged[['AAPL', 'aaplopen', 'aaplclose', 'aapllow', 'aaplhigh', 'aaplvolume']]"
   ]
  },
  {
   "cell_type": "code",
   "execution_count": 15,
   "metadata": {},
   "outputs": [
    {
     "data": {
      "text/html": [
       "<div>\n",
       "<style scoped>\n",
       "    .dataframe tbody tr th:only-of-type {\n",
       "        vertical-align: middle;\n",
       "    }\n",
       "\n",
       "    .dataframe tbody tr th {\n",
       "        vertical-align: top;\n",
       "    }\n",
       "\n",
       "    .dataframe thead th {\n",
       "        text-align: right;\n",
       "    }\n",
       "</style>\n",
       "<table border=\"1\" class=\"dataframe\">\n",
       "  <thead>\n",
       "    <tr style=\"text-align: right;\">\n",
       "      <th></th>\n",
       "      <th>AAPL</th>\n",
       "      <th>aaplopen</th>\n",
       "      <th>aaplclose</th>\n",
       "      <th>aapllow</th>\n",
       "      <th>aaplhigh</th>\n",
       "      <th>aaplvolume</th>\n",
       "    </tr>\n",
       "  </thead>\n",
       "  <tbody>\n",
       "    <tr>\n",
       "      <th>0</th>\n",
       "      <td>-1</td>\n",
       "      <td>-0.843913</td>\n",
       "      <td>-0.849136</td>\n",
       "      <td>-0.850548</td>\n",
       "      <td>-0.847632</td>\n",
       "      <td>-0.378867</td>\n",
       "    </tr>\n",
       "    <tr>\n",
       "      <th>1</th>\n",
       "      <td>-1</td>\n",
       "      <td>-0.848939</td>\n",
       "      <td>-0.849019</td>\n",
       "      <td>-0.850365</td>\n",
       "      <td>-0.851329</td>\n",
       "      <td>-0.521402</td>\n",
       "    </tr>\n",
       "    <tr>\n",
       "      <th>2</th>\n",
       "      <td>0</td>\n",
       "      <td>-0.854095</td>\n",
       "      <td>-0.868265</td>\n",
       "      <td>-0.868401</td>\n",
       "      <td>-0.856985</td>\n",
       "      <td>-0.152449</td>\n",
       "    </tr>\n",
       "    <tr>\n",
       "      <th>3</th>\n",
       "      <td>0</td>\n",
       "      <td>-0.867376</td>\n",
       "      <td>-0.871382</td>\n",
       "      <td>-0.879720</td>\n",
       "      <td>-0.869097</td>\n",
       "      <td>0.218064</td>\n",
       "    </tr>\n",
       "    <tr>\n",
       "      <th>4</th>\n",
       "      <td>0</td>\n",
       "      <td>-0.868821</td>\n",
       "      <td>-0.879647</td>\n",
       "      <td>-0.878975</td>\n",
       "      <td>-0.870565</td>\n",
       "      <td>-0.111582</td>\n",
       "    </tr>\n",
       "  </tbody>\n",
       "</table>\n",
       "</div>"
      ],
      "text/plain": [
       "   AAPL  aaplopen  aaplclose   aapllow  aaplhigh  aaplvolume\n",
       "0    -1 -0.843913  -0.849136 -0.850548 -0.847632   -0.378867\n",
       "1    -1 -0.848939  -0.849019 -0.850365 -0.851329   -0.521402\n",
       "2     0 -0.854095  -0.868265 -0.868401 -0.856985   -0.152449\n",
       "3     0 -0.867376  -0.871382 -0.879720 -0.869097    0.218064\n",
       "4     0 -0.868821  -0.879647 -0.878975 -0.870565   -0.111582"
      ]
     },
     "execution_count": 15,
     "metadata": {},
     "output_type": "execute_result"
    }
   ],
   "source": [
    "merged.head()"
   ]
  },
  {
   "cell_type": "code",
   "execution_count": 16,
   "metadata": {},
   "outputs": [],
   "source": [
    "# Result is stored for training and testing \n",
    "merged = merged.to_csv('prepared data/Data_Preperation_one_ticker_internal.csv', index=False)"
   ]
  }
 ],
 "metadata": {
  "kernelspec": {
   "display_name": "Python 3",
   "language": "python",
   "name": "python3"
  },
  "language_info": {
   "codemirror_mode": {
    "name": "ipython",
    "version": 3
   },
   "file_extension": ".py",
   "mimetype": "text/x-python",
   "name": "python",
   "nbconvert_exporter": "python",
   "pygments_lexer": "ipython3",
   "version": "3.6.5"
  }
 },
 "nbformat": 4,
 "nbformat_minor": 2
}
