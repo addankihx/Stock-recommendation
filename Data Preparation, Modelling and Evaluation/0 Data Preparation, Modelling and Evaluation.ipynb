{
 "cells": [
  {
   "cell_type": "markdown",
   "metadata": {},
   "source": [
    "# Data Preparation, Modelling and Evaluation"
   ]
  },
  {
   "cell_type": "markdown",
   "metadata": {},
   "source": [
    "## Content"
   ]
  },
  {
   "cell_type": "markdown",
   "metadata": {},
   "source": [
    "1. Current Step\n",
    "2. Goal and approach\n",
    "    1. Support Vector Machine\n",
    "    2. Random Forest\n",
    "    3. Neural Network\n",
    "    4. Gradient Boosting\n",
    "    5. Linear Discriminant Analyse\n",
    "    6. k-Nearest Neighbors (KNN)\n",
    "3. Structure\n",
    "    1. First iteration\n",
    "    2. Second iteration\n",
    "    3. Agenda"
   ]
  },
  {
   "cell_type": "markdown",
   "metadata": {},
   "source": [
    "<hr>"
   ]
  },
  {
   "cell_type": "markdown",
   "metadata": {},
   "source": [
    "## 1 Current Step"
   ]
  },
  {
   "cell_type": "markdown",
   "metadata": {},
   "source": [
    "This section contains 2 iterations which are including **Data Preperation**, **Modelling** and **Evaluation**\n",
    "(please see image below).\n"
   ]
  },
  {
   "cell_type": "markdown",
   "metadata": {},
   "source": [
    "![alt text](https://www.kdnuggets.com/wp-content/uploads/crisp-dm-4-problems-fig1.png \"Crisp-dm\")"
   ]
  },
  {
   "cell_type": "markdown",
   "metadata": {},
   "source": [
    "## 2 Goal and approach"
   ]
  },
  {
   "cell_type": "markdown",
   "metadata": {},
   "source": [
    "Our goal is to find the best fitting model to predict the selling option of the stock prices. \n",
    "\n",
    "As we have seen in the data understanding section, we have seen that we have some train_labels. This results that we are working with a classification problem. To solve this there are multiple models. We choosed the following:\n",
    "\n",
    "- Support Vector Machine\n",
    "- Random Forest\n",
    "- Neural Network\n",
    "- Gradient Boosting\n",
    "- Linear Discreminant Analyse\n",
    "- K-Nearest Neighbors (KNN)\n",
    "\n",
    "\n",
    "\n",
    "\n",
    "\n"
   ]
  },
  {
   "cell_type": "markdown",
   "metadata": {},
   "source": [
    "### A. Support Vector Machine"
   ]
  },
  {
   "cell_type": "markdown",
   "metadata": {},
   "source": [
    "“Support Vector Machine” (SVM) is a supervised machine learning algorithm which can be used for both classification or regression challenges. However,  it is mostly used in classification problems. In this algorithm, we plot each data item as a point in n-dimensional space (where n is number of features you have) with the value of each feature being the value of a particular coordinate. Then, we perform classification by finding the hyper-plane that differentiate the two classes very well.\n",
    "\n",
    "Fore more details and the original text source please follow following link: [Analyticsvidhya.com](https://www.analyticsvidhya.com/blog/2017/09/understaing-support-vector-machine-example-code/)"
   ]
  },
  {
   "cell_type": "markdown",
   "metadata": {},
   "source": [
    "### B. Random Forest"
   ]
  },
  {
   "cell_type": "markdown",
   "metadata": {},
   "source": [
    "Random Forest is a supervised learning algorithm. Like you can already see from it’s name, it creates a forest and makes it somehow random. The „forest“ it builds, is an ensemble of Decision Trees, most of the time trained with the “bagging” method. The general idea of the bagging method is that a combination of learning models increases the overall result.\n",
    "\n",
    "Fore more details and the original text source please follow following link: [Towardsdatascience.com](https://towardsdatascience.com/the-random-forest-algorithm-d457d499ffcd)"
   ]
  },
  {
   "cell_type": "markdown",
   "metadata": {},
   "source": [
    "### C. Neural Network"
   ]
  },
  {
   "cell_type": "markdown",
   "metadata": {},
   "source": [
    "As the “neural” part of their name suggests, they are brain-inspired systems which are intended to replicate the way that we humans learn. Neural networks consist of input and output layers, as well as (in most cases) a hidden layer consisting of units that transform the input into something that the output layer can use. They are excellent tools for finding patterns which are far too complex or numerous for a human programmer to extract and teach the machine to recognize.\n",
    "\n",
    "There are multiple types of neural network, each of which come with their own specific use cases and levels of complexity. The most basic type of neural net is something called a feedforward neural network, in which information travels in only one direction from input to output.\n",
    "\n",
    "A more widely used type of network is the recurrent neural network, in which data can flow in multiple directions. These neural networks possess greater learning abilities and are widely employed for more complex tasks such as learning handwriting or language recognition.\n",
    "\n",
    "There are also convolutional neural networks, Boltzmann machine networks, Hopfield networks, and a variety of others. Picking the right network for your task depends on the data you have to train it with, and the specific application you have in mind.\n",
    "\n",
    "Fore more details and the original text source please follow following link: [Digitaltrends.com](https://www.digitaltrends.com/cool-tech/what-is-an-artificial-neural-network/)"
   ]
  },
  {
   "cell_type": "markdown",
   "metadata": {},
   "source": [
    "### D. Gradient Boosting"
   ]
  },
  {
   "cell_type": "markdown",
   "metadata": {},
   "source": [
    " - Boosting is an ensemble technique in which the predictors are not made independently, but sequentially.\n",
    " \n",
    " \n",
    "This technique employs the logic in which the subsequent predictors learn from the mistakes of the previous predictors. Therefore, the observations have an unequal probability of appearing in subsequent models and ones with the highest error appear most. (So the observations are not chosen based on the bootstrap process, but based on the error). The predictors can be chosen from a range of models like decision trees, regressors, classifiers etc.\n",
    "\n",
    "Fore more details and the original text source please follow following link: [Medium.com](https://medium.com/mlreview/gradient-boosting-from-scratch-1e317ae4587d)"
   ]
  },
  {
   "cell_type": "markdown",
   "metadata": {},
   "source": [
    "### E. Linear Discriminant Analyse"
   ]
  },
  {
   "cell_type": "markdown",
   "metadata": {},
   "source": [
    "Linear Discriminant Analysis (LDA) is most commonly used as dimensionality reduction technique in the pre-processing step for pattern-classification and machine learning applications. The goal is to project a dataset onto a lower-dimensional space with good class-separability in order avoid overfitting (“curse of dimensionality”) and also reduce computational costs.\n",
    "\n",
    "Fore more details and the original text source please follow following link: [Sebastianraschka.com](https://sebastianraschka.com/Articles/2014_python_lda.html)"
   ]
  },
  {
   "cell_type": "markdown",
   "metadata": {},
   "source": [
    "### F. k-Nearest Neighbors (KNN)"
   ]
  },
  {
   "cell_type": "markdown",
   "metadata": {},
   "source": [
    "The k-Nearest-Neighbors (kNN) method of classification is one of the simplest methods in machine learning, and is a great way to introduce yourself to machine learning and classification in general. At its most basic level, it is essentially classification by finding the most similar data points in the training data, and making an educated guess based on their classifications. Although very simple to understand and implement, this method has seen wide application in many domains, such as in recommendation systems, semantic searching, and anomaly detection.\n",
    "\n",
    "Fore more details and the original text source please follow following link: [Towardsdatascience.com](https://towardsdatascience.com/introduction-to-k-nearest-neighbors-3b534bb11d26)"
   ]
  },
  {
   "cell_type": "markdown",
   "metadata": {},
   "source": [
    "## 3. Structure"
   ]
  },
  {
   "cell_type": "markdown",
   "metadata": {},
   "source": [
    "This folder is structured in the following way:\n",
    "\n",
    "- The first number (x.) represents the iteration (1 = first iteration, 2 = second iteration). The first iteration was   used to build and evaluate a model without all data. The reason was to reduce the neccessary time for training and   evaluating.\n",
    "\n",
    "\n",
    "- The second number (1.x) represents the corresponding method plattform. The following steps where used:\n",
    "  1. Sklearn (Support Vector Machine, Random Forest, Gradient Boosting, Linear Discriminant Analyse and k-Nearest \n",
    "     Neighbors (KNN))\n",
    "  2. Tensorflow (Neural Network)\n",
    "\n",
    "    \n",
    "- The third number (1.1.x) represents the step within the iteration. The following steps where used:\n",
    "  1. Data preperation\n",
    "  2. Modelling and Evaluation\n",
    "    "
   ]
  },
  {
   "cell_type": "markdown",
   "metadata": {},
   "source": [
    "### A. First iteration"
   ]
  },
  {
   "cell_type": "markdown",
   "metadata": {},
   "source": [
    "Within the first iteration we will train and test the models with just one ticker or a few tickers. The reason is that in the first iteration we just want to check if our models are working and if we achieve the recommendations we are looking for. \n",
    "\n",
    "Furthermore, we want to keep the training and testing time small to try as much as possible options. "
   ]
  },
  {
   "cell_type": "markdown",
   "metadata": {},
   "source": [
    "### B. Second iteration"
   ]
  },
  {
   "cell_type": "markdown",
   "metadata": {},
   "source": [
    "In the second iteration we use the \"best\" model settings based on the resuts of the first iteration and increase the number of used tickers. By increasing the number of tickers we want to achieve a better overall generalization and based on this better recommendations."
   ]
  },
  {
   "cell_type": "markdown",
   "metadata": {},
   "source": [
    "### C. Agenda"
   ]
  },
  {
   "cell_type": "markdown",
   "metadata": {},
   "source": [
    "- 1 First iteration\n",
    "- 1.1 Sklearn Methods\n",
    "- 1.1.1 Data Preperation\n",
    "- 1.1.1.1 Data preperation of internal data without time courses\n",
    "- 1.1.1.2 Data prepareation with inclusion of external data per quater\n",
    "- 1.1.1.3 Data preperation with inclusion of external data per day\n",
    "- 1.1.1.4 Data preparation - Calculate movement rates - single ticker\n",
    "- 1.1.1.5 Data preparation - Calculate movement rates - 20 tickers\n",
    "\n",
    "\n",
    "- 1.1.2 Modelling and Evaluation\n",
    "- 1.1.2.1 Internal data without time courses\n",
    "- 1.1.2.2 Inclusion external data per quarter\n",
    "- 1.1.2.3 Inclusion of external data per day\n",
    "- 1.1.2.4 Internal data with time coures 20 tickers\n",
    "\n",
    "\n",
    "- 1.2 Neural Network\n",
    "- 1.2.1 Data Preperation - Neural Network - single ticker\n",
    "- 1.2.2 Train and Test Neural Network for best Hyperparameter (Modelling and Evaluation)\n",
    "\n",
    "\n",
    "- 2 Second iteration\n",
    "- 2.1 Sklearn Methods\n",
    "- 2.1.1 Data preperation, training, testing and prediction per ticker\n",
    "- 2.1.2 Data preperation, training, testing and prediction based on multiple tickers\n",
    "- 2.1.3 Explanations of 2.1.2\n",
    "- 2.1.4 Determination of most frequent value of best five models\n",
    "\n",
    "\n",
    "- 2.2 Neural Network\n",
    "- 2.2.1 Data Preparation - Neural Network - 5 tickers\n",
    "- 2.2.2 Train and Test Neural Network\n",
    "- 2.2.3 Predict decisions for al tickers"
   ]
  },
  {
   "cell_type": "code",
   "execution_count": null,
   "metadata": {},
   "outputs": [],
   "source": []
  }
 ],
 "metadata": {
  "kernelspec": {
   "display_name": "Python 3",
   "language": "python",
   "name": "python3"
  },
  "language_info": {
   "codemirror_mode": {
    "name": "ipython",
    "version": 3
   },
   "file_extension": ".py",
   "mimetype": "text/x-python",
   "name": "python",
   "nbconvert_exporter": "python",
   "pygments_lexer": "ipython3",
   "version": "3.6.8"
  }
 },
 "nbformat": 4,
 "nbformat_minor": 2
}
