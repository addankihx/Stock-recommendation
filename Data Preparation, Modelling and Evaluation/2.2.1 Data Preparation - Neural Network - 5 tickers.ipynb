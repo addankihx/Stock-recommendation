{
 "cells": [
  {
   "cell_type": "markdown",
   "metadata": {},
   "source": [
    "# Data Preparation - Neural Network - 5 tickers"
   ]
  },
  {
   "cell_type": "markdown",
   "metadata": {},
   "source": [
    "This notebook is used to prepare the ticker data of 5 dedicated tickers and the trained labels to build a data basis for our neural network to train on. We will safe each prepared dataframe as a new .csv file.\n",
    "\n",
    "<h3>Reason for 5 ticker:</h3>\n",
    "\n",
    "We will train now 5 ticker which will later generate 5 different independend neural networks. The reason for this is we would like to increase our overall prediction using Collective intelligence (CI). \n",
    "\n",
    "\"**Collecitve intelligence** (CI) is shared or group intelligence that emerges from the collaboration, collective efforts, and competition of many individuals and appears in consensus decision making.\"[Source](https://en.wikipedia.org/wiki/Collective_intelligence)\n",
    "\n",
    "<h4>Medium sized groups are the best:</h4>\n",
    "\n",
    "*\"The increase in the size of the group may result in the group's accuracy in solving difficult tasks decreasing more sharply than it increases in solving easier tasks.\"*\n",
    "\n",
    "Also with animals, which live in groups or swarms, often relatively few individuals make the important decisions.\n",
    "[Source](https://www.deutschlandfunkkultur.de/kollektive-intelligenz-wie-grosse-gruppen-entscheidungen.976.de.html?dram:article_id=362863)\n",
    "\n",
    "\n",
    "\n",
    "<br><div align=\"center\"><img src=\"https://www.deutschlandfunkkultur.de/media/thumbs/7/72f87e728ebc85de9f831a8c7d4eb1fcv1_max_635x357_b3535db83dc50e27c1bb1392364c95a2.jpg?key=7bde31\"></img></div><br>\n",
    "\n",
    "\n",
    "\n",
    "\n",
    "\n",
    "Based on this we decided to build a group of 5 independent tickers.\n",
    "\n",
    "\n",
    "<h3>Procedure:</h3>\n",
    "\n",
    "For calculating the movement rates for 5 ticker, we will use the same code as in the other file but we will let it run within a loop and safe the final dataframe as csv.\n",
    "\n",
    "\n"
   ]
  },
  {
   "cell_type": "markdown",
   "metadata": {},
   "source": [
    "# Content\n",
    "\n",
    " 1. Import dependencies\n",
    " 2. Define our series to supervised function\n",
    " 3. Define the tickers we want to use\n",
    " 4. Combine ticker and trained labels and safe dataframe"
   ]
  },
  {
   "cell_type": "markdown",
   "metadata": {},
   "source": [
    "<hr>"
   ]
  },
  {
   "cell_type": "markdown",
   "metadata": {},
   "source": [
    "## 1. Import dependencies"
   ]
  },
  {
   "cell_type": "code",
   "execution_count": 1,
   "metadata": {},
   "outputs": [],
   "source": [
    "import numpy as np\n",
    "import matplotlib.pyplot as plt\n",
    "import pandas as pd\n",
    "from pandas import Series\n",
    "from sklearn import preprocessing\n",
    "from  pandas  import  DataFrame \n",
    "from  pandas  import  concat \n",
    "from sklearn.preprocessing import MinMaxScaler\n",
    "from sklearn.preprocessing import minmax_scale\n",
    "import os\n",
    "import glob\n",
    "\n",
    "\n"
   ]
  },
  {
   "cell_type": "markdown",
   "metadata": {},
   "source": [
    "## 2. Define our series to supervised function"
   ]
  },
  {
   "cell_type": "markdown",
   "metadata": {},
   "source": [
    "**Time Series vs. Supervised learning**\n",
    "\n",
    "A time series is a sequence of numbers that are ordered by a time index. This can be thought of as a list or column of ordered values.\n",
    "\n",
    "A supervised learning problem is comprised of input patterns (X) and output patterns (y), such that an algorithm can learn how to predict the output patterns from the input patterns.\n",
    "\n",
    "\n",
    "A key function to help transform time series data into a supervised learning problem is the Pandas shift() function.\n",
    "\n",
    "Given a DataFrame, the shift() function can be used to create copies of columns that are pushed forward (rows of NaN values added to the front) or pulled back (rows of NaN values added to the end).\n",
    "\n",
    "This is the behavior required to create columns of lag observations as well as columns of forecast observations for a time series dataset in a supervised learning format.\n",
    "\n",
    "More details and the text sourece are found under following link: [Link](https://machinelearningmastery.com/convert-time-series-supervised-learning-problem-python/)"
   ]
  },
  {
   "cell_type": "code",
   "execution_count": 2,
   "metadata": {},
   "outputs": [],
   "source": [
    "def series_to_supervised(data, n_in=1, n_out=1, dropnan=True):\n",
    "\tn_vars = 1 if type(data) is list else data.shape[1]\n",
    "\tdf = DataFrame(data)\n",
    "\tcols, names = list(), list()\n",
    "\t# input sequence (t-n, ... t-1)\n",
    "\tfor i in range(n_in, 0, -1):\n",
    "\t\tcols.append(df.shift(i))\n",
    "\t\tnames += [('var%d(t-%d)' % (j+1, i)) for j in range(n_vars)]\n",
    "\t# forecast sequence (t, t+1, ... t+n)\n",
    "\tfor i in range(0, n_out):\n",
    "\t\tcols.append(df.shift(-i))\n",
    "\t\tif i == 0:\n",
    "\t\t\tnames += [('var%d(t)' % (j+1)) for j in range(n_vars)]\n",
    "\t\telse:\n",
    "\t\t\tnames += [('var%d(t+%d)' % (j+1, i)) for j in range(n_vars)]\n",
    "\t# put it all together\n",
    "\tagg = concat(cols, axis=1)\n",
    "\tagg.columns = names\n",
    "\t# drop rows with NaN values\n",
    "\tif dropnan:\n",
    "\t\tagg.dropna(inplace=True)\n",
    "\treturn agg"
   ]
  },
  {
   "cell_type": "markdown",
   "metadata": {},
   "source": [
    "## 3. Define the tickers we want to use"
   ]
  },
  {
   "cell_type": "markdown",
   "metadata": {},
   "source": [
    "##### Check how many tickers we have in our folder"
   ]
  },
  {
   "cell_type": "code",
   "execution_count": 3,
   "metadata": {},
   "outputs": [
    {
     "name": "stdout",
     "output_type": "stream",
     "text": [
      "835\n"
     ]
    }
   ],
   "source": [
    "path = 'data/stocks/'\n",
    "extension = 'csv'\n",
    "os.chdir(path)\n",
    "tickers = [i for i in glob.glob('*.{}'.format(extension))]\n",
    "print(len(tickers))\n",
    "os.chdir(\"..\")\n",
    "os.chdir(\"..\")"
   ]
  },
  {
   "cell_type": "markdown",
   "metadata": {},
   "source": [
    "##### Define the wanted tickers (5)"
   ]
  },
  {
   "cell_type": "code",
   "execution_count": 4,
   "metadata": {},
   "outputs": [],
   "source": [
    "tickers = ['AAPL','IBM','MSFT','AMZN','FB']"
   ]
  },
  {
   "cell_type": "markdown",
   "metadata": {},
   "source": [
    "## 4. Combine ticker and trained labels and safe dataframe"
   ]
  },
  {
   "cell_type": "code",
   "execution_count": 6,
   "metadata": {
    "scrolled": true
   },
   "outputs": [
    {
     "name": "stdout",
     "output_type": "stream",
     "text": [
      "1/5: AAPL\n",
      "2/5: IBM\n",
      "3/5: MSFT\n",
      "4/5: AMZN\n"
     ]
    },
    {
     "name": "stderr",
     "output_type": "stream",
     "text": [
      "/Users/jean-micheltaverne/anaconda3/lib/python3.6/site-packages/ipykernel_launcher.py:70: DataConversionWarning: Data with input dtype int64, float64 were all converted to float64.\n"
     ]
    },
    {
     "name": "stdout",
     "output_type": "stream",
     "text": [
      "5/5: FB\n"
     ]
    },
    {
     "name": "stderr",
     "output_type": "stream",
     "text": [
      "/Users/jean-micheltaverne/anaconda3/lib/python3.6/site-packages/ipykernel_launcher.py:70: DataConversionWarning: Data with input dtype int64, float64 were all converted to float64.\n"
     ]
    },
    {
     "name": "stdout",
     "output_type": "stream",
     "text": [
      "Abgeschlossen\n"
     ]
    }
   ],
   "source": [
    "# Define number of used tickers\n",
    "anzahl = 5\n",
    "i = 0\n",
    "\n",
    "# Start loop for running through all defined ticker\n",
    "for x in range(0,len(tickers)):\n",
    "    \n",
    "    liste = []\n",
    "\n",
    "    # Define new empty dataframe\n",
    "    new_xx_df = pd.DataFrame(liste,columns=[\"var1(t-150)\",\"var2(t-150)\",\"var3(t-150)\",\"var1(t-149)\",\"var2(t-149)\",\"var3(t-149)\",\"var1(t-148)\",\"var2(t-148)\",\"var3(t-148)\",\"var1(t-147)\",\"var2(t-147)\",\"var3(t-147)\",\"var1(t-146)\",\"var2(t-146)\",\"var3(t-146)\",\"var1(t-145)\",\"var2(t-145)\",\"var3(t-145)\",\"var1(t-144)\",\n",
    "                                        \"var2(t-144)\",\"var3(t-144)\",\"var1(t-143)\",\"var2(t-143)\",\"var3(t-143)\",\"var1(t-142)\",\"var2(t-142)\",\"var3(t-142)\",\"var1(t-141)\",\"var2(t-141)\",\"var3(t-141)\",\"var1(t-140)\",\"var2(t-140)\",\"var3(t-140)\",\"var1(t-139)\",\"var2(t-139)\",\"var3(t-139)\",\"var1(t-138)\",\"var2(t-138)\",\n",
    "                                        \"var3(t-138)\",\"var1(t-137)\",\"var2(t-137)\",\"var3(t-137)\",\"var1(t-136)\",\"var2(t-136)\",\"var3(t-136)\",\"var1(t-135)\",\"var2(t-135)\",\"var3(t-135)\",\"var1(t-134)\",\"var2(t-134)\",\"var3(t-134)\",\"var1(t-133)\",\"var2(t-133)\",\"var3(t-133)\",\"var1(t-132)\",\"var2(t-132)\",\"var3(t-132)\",\n",
    "                                        \"var1(t-131)\",\"var2(t-131)\",\"var3(t-131)\",\"var1(t-130)\",\"var2(t-130)\",\"var3(t-130)\",\"var1(t-129)\",\"var2(t-129)\",\"var3(t-129)\",\"var1(t-128)\",\"var2(t-128)\",\"var3(t-128)\",\"var1(t-127)\",\"var2(t-127)\",\"var3(t-127)\",\"var1(t-126)\",\"var2(t-126)\",\"var3(t-126)\",\"var1(t-125)\",\n",
    "                                        \"var2(t-125)\",\"var3(t-125)\",\"var1(t-124)\",\"var2(t-124)\",\"var3(t-124)\",\"var1(t-123)\",\"var2(t-123)\",\"var3(t-123)\",\"var1(t-122)\",\"var2(t-122)\",\"var3(t-122)\",\"var1(t-121)\",\"var2(t-121)\",\"var3(t-121)\",\"var1(t-120)\",\"var2(t-120)\",\"var3(t-120)\",\"var1(t-119)\",\"var2(t-119)\",\n",
    "                                        \"var3(t-119)\",\"var1(t-118)\",\"var2(t-118)\",\"var3(t-118)\",\"var1(t-117)\",\"var2(t-117)\",\"var3(t-117)\",\"var1(t-116)\",\"var2(t-116)\",\"var3(t-116)\",\"var1(t-115)\",\"var2(t-115)\",\"var3(t-115)\",\"var1(t-114)\",\"var2(t-114)\",\"var3(t-114)\",\"var1(t-113)\",\"var2(t-113)\",\"var3(t-113)\",\n",
    "                                        \"var1(t-112)\",\"var2(t-112)\",\"var3(t-112)\",\"var1(t-111)\",\"var2(t-111)\",\"var3(t-111)\",\"var1(t-110)\",\"var2(t-110)\",\"var3(t-110)\",\"var1(t-109)\",\"var2(t-109)\",\"var3(t-109)\",\"var1(t-108)\",\"var2(t-108)\",\"var3(t-108)\",\"var1(t-107)\",\"var2(t-107)\",\"var3(t-107)\",\"var1(t-106)\",\n",
    "                                        \"var2(t-106)\",\"var3(t-106)\",\"var1(t-105)\",\"var2(t-105)\",\"var3(t-105)\",\"var1(t-104)\",\"var2(t-104)\",\"var3(t-104)\",\"var1(t-103)\",\"var2(t-103)\",\"var3(t-103)\",\"var1(t-102)\",\"var2(t-102)\",\"var3(t-102)\",\"var1(t-101)\",\"var2(t-101)\",\"var3(t-101)\",\"var1(t-100)\",\"var2(t-100)\",\n",
    "                                        \"var3(t-100)\",\"var1(t-99)\",\"var2(t-99)\",\"var3(t-99)\",\"var1(t-98)\",\"var2(t-98)\",\"var3(t-98)\",\"var1(t-97)\",\"var2(t-97)\",\"var3(t-97)\",\"var1(t-96)\",\"var2(t-96)\",\"var3(t-96)\",\"var1(t-95)\",\"var2(t-95)\",\"var3(t-95)\",\"var1(t-94)\",\"var2(t-94)\",\"var3(t-94)\",\"var1(t-93)\",\"var2(t-93)\",\n",
    "                                        \"var3(t-93)\",\"var1(t-92)\",\"var2(t-92)\",\"var3(t-92)\",\"var1(t-91)\",\"var2(t-91)\",\"var3(t-91)\",\"var1(t-90)\",\"var2(t-90)\",\"var3(t-90)\",\"var1(t-89)\",\"var2(t-89)\",\"var3(t-89)\",\"var1(t-88)\",\"var2(t-88)\",\"var3(t-88)\",\"var1(t-87)\",\"var2(t-87)\",\"var3(t-87)\",\"var1(t-86)\",\"var2(t-86)\",\n",
    "                                        \"var3(t-86)\",\"var1(t-85)\",\"var2(t-85)\",\"var3(t-85)\",\"var1(t-84)\",\"var2(t-84)\",\"var3(t-84)\",\"var1(t-83)\",\"var2(t-83)\",\"var3(t-83)\",\"var1(t-82)\",\"var2(t-82)\",\"var3(t-82)\",\"var1(t-81)\",\"var2(t-81)\",\"var3(t-81)\",\"var1(t-80)\",\"var2(t-80)\",\"var3(t-80)\",\"var1(t-79)\",\"var2(t-79)\",\n",
    "                                        \"var3(t-79)\",\"var1(t-78)\",\"var2(t-78)\",\"var3(t-78)\",\"var1(t-77)\",\"var2(t-77)\",\"var3(t-77)\",\"var1(t-76)\",\"var2(t-76)\",\"var3(t-76)\",\"var1(t-75)\",\"var2(t-75)\",\"var3(t-75)\",\"var1(t-74)\",\"var2(t-74)\",\"var3(t-74)\",\"var1(t-73)\",\"var2(t-73)\",\"var3(t-73)\",\"var1(t-72)\",\"var2(t-72)\",\n",
    "                                        \"var3(t-72)\",\"var1(t-71)\",\"var2(t-71)\",\"var3(t-71)\",\"var1(t-70)\",\"var2(t-70)\",\"var3(t-70)\",\"var1(t-69)\",\"var2(t-69)\",\"var3(t-69)\",\"var1(t-68)\",\"var2(t-68)\",\"var3(t-68)\",\"var1(t-67)\",\"var2(t-67)\",\"var3(t-67)\",\"var1(t-66)\",\"var2(t-66)\",\"var3(t-66)\",\"var1(t-65)\",\"var2(t-65)\",\n",
    "                                        \"var3(t-65)\",\"var1(t-64)\",\"var2(t-64)\",\"var3(t-64)\",\"var1(t-63)\",\"var2(t-63)\",\"var3(t-63)\",\"var1(t-62)\",\"var2(t-62)\",\"var3(t-62)\",\"var1(t-61)\",\"var2(t-61)\",\"var3(t-61)\",\"var1(t-60)\",\"var2(t-60)\",\"var3(t-60)\",\"var1(t-59)\",\"var2(t-59)\",\"var3(t-59)\",\"var1(t-58)\",\"var2(t-58)\",\n",
    "                                        \"var3(t-58)\",\"var1(t-57)\",\"var2(t-57)\",\"var3(t-57)\",\"var1(t-56)\",\"var2(t-56)\",\"var3(t-56)\",\"var1(t-55)\",\"var2(t-55)\",\"var3(t-55)\",\"var1(t-54)\",\"var2(t-54)\",\"var3(t-54)\",\"var1(t-53)\",\"var2(t-53)\",\"var3(t-53)\",\"var1(t-52)\",\"var2(t-52)\",\"var3(t-52)\",\"var1(t-51)\",\"var2(t-51)\",\n",
    "                                        \"var3(t-51)\",\"var1(t-50)\",\"var2(t-50)\",\"var3(t-50)\",\"var1(t-49)\",\"var2(t-49)\",\"var3(t-49)\",\"var1(t-48)\",\"var2(t-48)\",\"var3(t-48)\",\"var1(t-47)\",\"var2(t-47)\",\"var3(t-47)\",\"var1(t-46)\",\"var2(t-46)\",\"var3(t-46)\",\"var1(t-45)\",\"var2(t-45)\",\"var3(t-45)\",\"var1(t-44)\",\"var2(t-44)\",\n",
    "                                        \"var3(t-44)\",\"var1(t-43)\",\"var2(t-43)\",\"var3(t-43)\",\"var1(t-42)\",\"var2(t-42)\",\"var3(t-42)\",\"var1(t-41)\",\"var2(t-41)\",\"var3(t-41)\",\"var1(t-40)\",\"var2(t-40)\",\"var3(t-40)\",\"var1(t-39)\",\"var2(t-39)\",\"var3(t-39)\",\"var1(t-38)\",\"var2(t-38)\",\"var3(t-38)\",\"var1(t-37)\",\"var2(t-37)\",\n",
    "                                        \"var3(t-37)\",\"var1(t-36)\",\"var2(t-36)\",\"var3(t-36)\",\"var1(t-35)\",\"var2(t-35)\",\"var3(t-35)\",\"var1(t-34)\",\"var2(t-34)\",\"var3(t-34)\",\"var1(t-33)\",\"var2(t-33)\",\"var3(t-33)\",\"var1(t-32)\",\"var2(t-32)\",\"var3(t-32)\",\"var1(t-31)\",\"var2(t-31)\",\"var3(t-31)\",\"var1(t-30)\",\"var2(t-30)\",\n",
    "                                        \"var3(t-30)\",\"var1(t-29)\",\"var2(t-29)\",\"var3(t-29)\",\"var1(t-28)\",\"var2(t-28)\",\"var3(t-28)\",\"var1(t-27)\",\"var2(t-27)\",\"var3(t-27)\",\"var1(t-26)\",\"var2(t-26)\",\"var3(t-26)\",\"var1(t-25)\",\"var2(t-25)\",\"var3(t-25)\",\"var1(t-24)\",\"var2(t-24)\",\"var3(t-24)\",\"var1(t-23)\",\"var2(t-23)\",\n",
    "                                        \"var3(t-23)\",\"var1(t-22)\",\"var2(t-22)\",\"var3(t-22)\",\"var1(t-21)\",\"var2(t-21)\",\"var3(t-21)\",\"var1(t-20)\",\"var2(t-20)\",\"var3(t-20)\",\"var1(t-19)\",\"var2(t-19)\",\"var3(t-19)\",\"var1(t-18)\",\"var2(t-18)\",\"var3(t-18)\",\"var1(t-17)\",\"var2(t-17)\",\"var3(t-17)\",\"var1(t-16)\",\"var2(t-16)\",\n",
    "                                        \"var3(t-16)\",\"var1(t-15)\",\"var2(t-15)\",\"var3(t-15)\",\"var1(t-14)\",\"var2(t-14)\",\"var3(t-14)\",\"var1(t-13)\",\"var2(t-13)\",\"var3(t-13)\",\"var1(t-12)\",\"var2(t-12)\",\"var3(t-12)\",\"var1(t-11)\",\"var2(t-11)\",\"var3(t-11)\",\"var1(t-10)\",\"var2(t-10)\",\"var3(t-10)\",\"var1(t-9)\",\"var2(t-9)\",\n",
    "                                        \"var3(t-9)\",\"var1(t-8)\",\"var2(t-8)\",\"var3(t-8)\",\"var1(t-7)\",\"var2(t-7)\",\"var3(t-7)\",\"var1(t-6)\",\"var2(t-6)\",\"var3(t-6)\",\"var1(t-5)\",\"var2(t-5)\",\"var3(t-5)\",\"var1(t-4)\",\"var2(t-4)\",\"var3(t-4)\",\"var1(t-3)\",\"var2(t-3)\",\"var3(t-3)\",\"var1(t-2)\",\"var2(t-2)\",\"var3(t-2)\",\"var1(t-1)\",\n",
    "                                        \"var2(t-1)\",\"var3(t-1)\",\"var1(t)\",\"var2(t)\",\"var3(t)\",\"var1(t+1)\",\"var2(t+1)\",\"var3(t+1)\",\"var1(t+2)\",\"var2(t+2)\",\"var3(t+2)\",\"var1(t+3)\",\"var2(t+3)\",\"var3(t+3)\",\"var1(t+4)\",\"var2(t+4)\",\"var3(t+4)\",\"var1(t+5)\",\"var2(t+5)\",\"var3(t+5)\",\"var1(t+6)\",\"var2(t+6)\",\"var3(t+6)\",\"var1(t+7)\",\n",
    "                                        \"var2(t+7)\",\"var3(t+7)\",\"var1(t+8)\",\"var2(t+8)\",\"var3(t+8)\",\"var1(t+9)\",\"var2(t+9)\",\"var3(t+9)\",\"var1(t+10)\",\"var2(t+10)\",\"var3(t+10)\",\"var1(t+11)\",\"var2(t+11)\",\"var3(t+11)\",\"var1(t+12)\",\"var2(t+12)\",\"var3(t+12)\",\"var1(t+13)\",\"var2(t+13)\",\"var3(t+13)\",\"var1(t+14)\",\"var2(t+14)\",\n",
    "                                        \"var3(t+14)\",\"var1(t+15)\",\"var2(t+15)\",\"var3(t+15)\",\"var1(t+16)\",\"var2(t+16)\",\"var3(t+16)\",\"var1(t+17)\",\"var2(t+17)\",\"var3(t+17)\",\"var1(t+18)\",\"var2(t+18)\",\"var3(t+18)\",\"var1(t+19)\",\"var2(t+19)\",\"var3(t+19)\",\"var1(t+20)\",\"var2(t+20)\",\"var3(t+20)\",\"var1(t+21)\",\"var2(t+21)\",\n",
    "                                        \"var3(t+21)\",\"var1(t+22)\",\"var2(t+22)\",\"var3(t+22)\",\"var1(t+23)\",\"var2(t+23)\",\"var3(t+23)\",\"var1(t+24)\",\"var2(t+24)\",\"var3(t+24)\",\"var1(t+25)\",\"var2(t+25)\",\"var3(t+25)\",\"var1(t+26)\",\"var2(t+26)\",\"var3(t+26)\",\"var1(t+27)\",\"var2(t+27)\",\"var3(t+27)\",\"var1(t+28)\",\"var2(t+28)\",\n",
    "                                        \"var3(t+28)\",\"var1(t+29)\",\"var2(t+29)\",\"var3(t+29)\",\"var1(t+30)\",\"var2(t+30)\",\"var3(t+30)\",\"var1(t+31)\",\"var2(t+31)\",\"var3(t+31)\",\"var1(t+32)\",\"var2(t+32)\",\"var3(t+32)\",\"var1(t+33)\",\"var2(t+33)\",\"var3(t+33)\",\"var1(t+34)\",\"var2(t+34)\",\"var3(t+34)\",\"var1(t+35)\",\"var2(t+35)\",\n",
    "                                        \"var3(t+35)\",\"var1(t+36)\",\"var2(t+36)\",\"var3(t+36)\",\"var1(t+37)\",\"var2(t+37)\",\"var3(t+37)\",\"var1(t+38)\",\"var2(t+38)\",\"var3(t+38)\",\"var1(t+39)\",\"var2(t+39)\",\"var3(t+39)\",\"var1(t+40)\",\"var2(t+40)\",\"var3(t+40)\",\"var1(t+41)\",\"var2(t+41)\",\"var3(t+41)\",\"var1(t+42)\",\"var2(t+42)\",\n",
    "                                        \"var3(t+42)\",\"var1(t+43)\",\"var2(t+43)\",\"var3(t+43)\",\"var1(t+44)\",\"var2(t+44)\",\"var3(t+44)\",\"var1(t+45)\",\"var2(t+45)\",\"var3(t+45)\",\"var1(t+46)\",\"var2(t+46)\",\"var3(t+46)\",\"var1(t+47)\",\"var2(t+47)\",\"var3(t+47)\",\"var1(t+48)\",\"var2(t+48)\",\"var3(t+48)\",\"var1(t+49)\",\"var2(t+49)\",\n",
    "                                        \"var3(t+49)\",\"var1(t+50)\",\"var2(t+50)\",\"var3(t+50)\",\"var1(t+51)\",\"var2(t+51)\",\"var3(t+51)\",\"var1(t+52)\",\"var2(t+52)\",\"var3(t+52)\",\"var1(t+53)\",\"var2(t+53)\",\"var3(t+53)\",\"var1(t+54)\",\"var2(t+54)\",\"var3(t+54)\",\"var1(t+55)\",\"var2(t+55)\",\"var3(t+55)\",\"var1(t+56)\",\"var2(t+56)\",\n",
    "                                        \"var3(t+56)\",\"var1(t+57)\",\"var2(t+57)\",\"var3(t+57)\",\"var1(t+58)\",\"var2(t+58)\",\"var3(t+58)\",\"var1(t+59)\",\"var2(t+59)\",\"var3(t+59)\",\"var1(t+60)\",\"var2(t+60)\",\"var3(t+60)\",\"var1(t+61)\",\"var2(t+61)\",\"var3(t+61)\",\"var1(t+62)\",\"var2(t+62)\",\"var3(t+62)\",\"var1(t+63)\",\"var2(t+63)\",\n",
    "                                        \"var3(t+63)\",\"var1(t+64)\",\"var2(t+64)\",\"var3(t+64)\",\"var1(t+65)\",\"var2(t+65)\",\"var3(t+65)\",\"var1(t+66)\",\"var2(t+66)\",\"var3(t+66)\",\"var1(t+67)\",\"var2(t+67)\",\"var3(t+67)\",\"var1(t+68)\",\"var2(t+68)\",\"var3(t+68)\",\"var1(t+69)\",\"var2(t+69)\",\"var3(t+69)\",\"var1(t+70)\",\"var2(t+70)\",\n",
    "                                        \"var3(t+70)\",\"var1(t+71)\",\"var2(t+71)\",\"var3(t+71)\",\"var1(t+72)\",\"var2(t+72)\",\"var3(t+72)\",\"var1(t+73)\",\"var2(t+73)\",\"var3(t+73)\",\"var1(t+74)\",\"var2(t+74)\",\"var3(t+74)\",\"var1(t+75)\",\"var2(t+75)\",\"var3(t+75)\",\"var1(t+76)\",\"var2(t+76)\",\"var3(t+76)\",\"var1(t+77)\",\"var2(t+77)\",\n",
    "                                        \"var3(t+77)\",\"var1(t+78)\",\"var2(t+78)\",\"var3(t+78)\",\"var1(t+79)\",\"var2(t+79)\",\"var3(t+79)\",\"var1(t+80)\",\"var2(t+80)\",\"var3(t+80)\",\"var1(t+81)\",\"var2(t+81)\",\"var3(t+81)\",\"var1(t+82)\",\"var2(t+82)\",\"var3(t+82)\",\"var1(t+83)\",\"var2(t+83)\",\"var3(t+83)\",\"var1(t+84)\",\"var2(t+84)\",\n",
    "                                        \"var3(t+84)\",\"var1(t+85)\",\"var2(t+85)\",\"var3(t+85)\",\"var1(t+86)\",\"var2(t+86)\",\"var3(t+86)\",\"var1(t+87)\",\"var2(t+87)\",\"var3(t+87)\",\"var1(t+88)\",\"var2(t+88)\",\"var3(t+88)\",\"var1(t+89)\",\"var2(t+89)\",\"var3(t+89)\",\"var1(t+90)\",\"var2(t+90)\",\"var3(t+90)\",\"Y\"])\n",
    "\n",
    "\n",
    "\n",
    "\n",
    "    \n",
    "    \n",
    "    \n",
    "    \n",
    "    \n",
    "    i = i + 1\n",
    "    ticker = tickers[x]\n",
    "    print(str(i) + \"/\" + str(anzahl) + \": \" + ticker)\n",
    "    \n",
    "    # Loading ticker stock data\n",
    "    df_ticker = pd.read_csv(\"data/stocks/\" + ticker + \".csv\")\n",
    "    df_ticker.columns = ['Date','Open','Close','Low','High','Volume']\n",
    "\n",
    "    # Calculate the mid price of each day\n",
    "    df_ticker['Mid_price'] = (df_ticker.Low + df_ticker.High) / 2\n",
    "    df_for_midprices = df_ticker.copy(deep=True)\n",
    "    df_midprices = df_for_midprices.drop(['Open','High','Low','Close'], axis=1)\n",
    "    \n",
    "    # Normalize all data using minmax_scale\n",
    "    df_merged_scaled = df_midprices\n",
    "    df_merged_scaled[['Volume','Mid_price']] = minmax_scale(df_merged_scaled[['Volume','Mid_price']])\n",
    "    \n",
    "    # Convert our time series into a supervised dataframe\n",
    "    # Using the Pandas Shift function to shift our dataframe + 90 days (function needs 91)\n",
    "    data = df_merged_scaled.values\n",
    "    reframed_data = series_to_supervised(data, 150, 91)\n",
    "    \n",
    "    # Add our Date back into the dataframe\n",
    "    reframed_data['Date'] = df_ticker.Date\n",
    "    \n",
    "    # Load the trained labels csv\n",
    "    df_train_label = pd.read_csv('data/labels_train.csv', header=0, index_col=0)\n",
    "    \n",
    "    # Drop all columns except the one with our selected ticker   \n",
    "    df_train_label = df_train_label.loc[:, df_train_label.columns.intersection([ticker])]\n",
    "    \n",
    "    # Merge both dataframes on our Date column                                    \n",
    "    df_train_label.columns = ['Y']\n",
    "    df_complete = pd.merge(reframed_data,df_train_label[['Y']],on='Date')\n",
    "    df_complete = df_complete.sort_values('Date')\n",
    "    df_complete = df_complete.drop('Date', axis=1)\n",
    "    \n",
    "    # Add the new dataframe to our new created dataframe (before loop)\n",
    "    new_xx_df = new_xx_df.append(df_complete)\n",
    "\n",
    "    '''    \n",
    "    Convert the trained label column from one column which contains -1,0 and 1 into 3 columns (Y1,Y2,Y3). The reason \n",
    "    for this is that eour neural network is using this output format [x,y,z] for classification. Zhis leads to \n",
    "    structure:\n",
    "\n",
    "        - If trained label = -1 -> Y1 = 0, Y2 = 0, Y3 = 1\n",
    "        - If trained label = 0 -> Y1 = 0, Y2 = 1, Y3 = 0\n",
    "        - If trained label = 1 -> Y1 = 1, Y2 = 0, Y3 = 1\n",
    "    '''    \n",
    "\n",
    "    new_xx_df['Y1'] = new_xx_df['Y']\n",
    "    new_xx_df['Y2'] = new_xx_df['Y']\n",
    "    new_xx_df['Y3'] = new_xx_df['Y']\n",
    "\n",
    "    new_xx_df.loc[new_xx_df['Y'] == 1, 'Y1'] = 1\n",
    "    new_xx_df.loc[new_xx_df['Y'] == 0, 'Y1'] = 0\n",
    "    new_xx_df.loc[new_xx_df['Y'] == -1, 'Y1'] = 0\n",
    "\n",
    "    new_xx_df.loc[new_xx_df['Y'] == 0, 'Y2'] = 1\n",
    "    new_xx_df.loc[new_xx_df['Y'] == 1, 'Y2'] = 0\n",
    "    new_xx_df.loc[new_xx_df['Y'] == -1, 'Y2'] = 0\n",
    "\n",
    "    new_xx_df.loc[new_xx_df['Y'] == -1, 'Y3'] = 1\n",
    "    new_xx_df.loc[new_xx_df['Y'] == 0, 'Y3'] = 0\n",
    "    new_xx_df.loc[new_xx_df['Y'] == 1, 'Y3'] = 0\n",
    "\n",
    "    new_xx_df = new_xx_df.drop('Y',axis=1)   \n",
    "\n",
    "\n",
    "    # Drop date columns except the date where the prediction starts from\n",
    "    new_xx_df1 = new_xx_df.drop(new_xx_df.columns[[0,3,6,9,12,15,18,21,24,27,30,33,36,39,42,45,48,51,54,57,60,63,66,69,72,75,78,81,84,87,90,93,96,99,102,105,108,111,114,117,120,123,126,129,132,135,138,141,144,147,150,153,156,159,162,165,168,171,174,177,180,183,\n",
    "                                                  186,189,192,195,198,201,204,207,210,213,216,219,222,225,228,231,234,237,240,243,246,249,252,255,258,261,264,267,270,273,276,279,282,285,288,291,294,297,300,303,306,309,312,315,318,321,324,327,330,333,336,339,342,\n",
    "                                                  345,348,351,354,357,360,363,366,369,372,375,378,381,384,387,390,393,396,399,402,405,408,411,414,417,420,423,426,429,432,435,438,441,444,447,453,456,459,462,465,468,471,474,477,480,483,486,489,492,495,498,501,504,\n",
    "                                                  507,510,513,516,519,522,525,528,531,534,537,540,543,546,549,552,555,558,561,564,567,570,573,576,579,582,585,588,591,594,597,600,603,606,609,612,615,618,621,624,627,630,633,636,639,642,645,648,651,654,657,660,663,\n",
    "                                                  666,669,672,675,678,681,684,687,690,693,696,699,702,705,708,711,714,717,720]], axis=1)    \n",
    "\n",
    "\n",
    "    new_xx_df1['Date'] = new_xx_df1['var1(t)'].copy()\n",
    "    new_xx_df1 = new_xx_df1.drop('var1(t)',axis=1) \n",
    "\n",
    "    # Save the created dataframe as a .csv file\n",
    "    new_xx_df1.to_csv('Prepared data/Training_set_NN' + str(i) + '.csv', encoding='utf-8')\n",
    "    new_xx_df1 = new_xx_df1.iloc[0:0]\n",
    "    \n",
    "print(\"Abgeschlossen\") \n",
    "    "
   ]
  }
 ],
 "metadata": {
  "kernelspec": {
   "display_name": "Python 3",
   "language": "python",
   "name": "python3"
  },
  "language_info": {
   "codemirror_mode": {
    "name": "ipython",
    "version": 3
   },
   "file_extension": ".py",
   "mimetype": "text/x-python",
   "name": "python",
   "nbconvert_exporter": "python",
   "pygments_lexer": "ipython3",
   "version": "3.6.8"
  }
 },
 "nbformat": 4,
 "nbformat_minor": 2
}
