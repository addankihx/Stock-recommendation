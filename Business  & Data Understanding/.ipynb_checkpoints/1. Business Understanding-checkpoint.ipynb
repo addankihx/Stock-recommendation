{
 "cells": [
  {
   "cell_type": "markdown",
   "metadata": {},
   "source": [
    "# Business understanding"
   ]
  },
  {
   "cell_type": "markdown",
   "metadata": {},
   "source": [
    "## Content\n",
    " 1. Objectives\n",
    " 2. Current Situation\n",
    " 3. Data mining goals and procedure"
   ]
  },
  {
   "cell_type": "markdown",
   "metadata": {},
   "source": [
    "<hr>"
   ]
  },
  {
   "cell_type": "markdown",
   "metadata": {},
   "source": [
    "# Objectives"
   ]
  },
  {
   "cell_type": "markdown",
   "metadata": {},
   "source": [
    "The aim is to give a forecast as to whether it is worth buying, selling or holding a share today. Training data is available per share for approx. 10 years. This data contains fundamental data and recommendations for action for each trading day. For the first half of 2018, a recommendation for action should be made for each trading day."
   ]
  },
  {
   "cell_type": "markdown",
   "metadata": {},
   "source": [
    "# Current Situation "
   ]
  },
  {
   "cell_type": "markdown",
   "metadata": {},
   "source": [
    "In order to be able to make a forecast using our algorithm, we need the following information on the individual share values of the companies: "
   ]
  },
  {
   "cell_type": "markdown",
   "metadata": {},
   "source": [
    "- Opening Value: Indicates the opening price of the share on the corresponding day.\n",
    "- Closing Value: Indicates the closing price of the share on the corresponding day.\n",
    "- Volume: The Volume shows the number of shares traded during the given day.\n",
    "For every buyer, there is a seller, and each transaction contributes to the count of total volume. That is, when buyers and sellers agree to make a transaction at a certain price, it is considered one transaction.\n",
    "If only five transactions occur in a day, the volume for the day is five. In general a higher volume indicates that more market participants agree with the current share price. A low trading volume accompanied by significant price increases or decreases can be an indicator that individual market participants are manipulating the share price or that the majority of market participants distrust the price.\n",
    "- Daily low: Indicates the lowest value of the share on that day.\n",
    "- Daily high: Indicates the highest value of the share on that day."
   ]
  },
  {
   "cell_type": "markdown",
   "metadata": {},
   "source": [
    "The above information is published on a daily basis for each individual share. "
   ]
  },
  {
   "cell_type": "markdown",
   "metadata": {},
   "source": [
    "In order to refine the forecast we can include additional information such as the following fundamental data:"
   ]
  },
  {
   "cell_type": "markdown",
   "metadata": {},
   "source": [
    "- EBIT: Earnings before interest and taxes (EBIT) is a measure of a company's profit that includes all incomes and expenses (operating and non-operating) except interest expenses and income tax expenses.\n",
    "- Revenue: Revenue is the income that a business has from its normal business activities, usually from the sale of goods and services to customers.\n",
    "- Net profit: Net profit is a measure of the profitability of a venture after accounting for all costs and taxes.\n",
    "- Dividends: A dividend is a payment made by a company to its shareholders, usually as a distribution of profits."
   ]
  },
  {
   "cell_type": "markdown",
   "metadata": {},
   "source": [
    "The above information is published on a quarterly basis for each company.\n",
    "Furthermore, some of the fundamental data indicators depend on each other, for instance some companies aim to maximizing share prices and therefore pay little or no dividends, while others are primarily concerned with maximizing dividends for their shareholders."
   ]
  },
  {
   "cell_type": "markdown",
   "metadata": {},
   "source": [
    "# Data mining goals and procedure"
   ]
  },
  {
   "cell_type": "markdown",
   "metadata": {},
   "source": [
    "The overall objective for the data mining activities is to improve our recommendation algorithm for the decision-making of share purchases. Due to this objective, our data mining goals include:"
   ]
  },
  {
   "cell_type": "markdown",
   "metadata": {},
   "source": [
    "- Obtain the data of one company to train our algorithm with. \n",
    "- Later obtain the data of 10 to 20 companies to continue training our algorithm.\n",
    "- In the end obtain the data of hundreds of companies to apply our algorithm to a stock index."
   ]
  },
  {
   "cell_type": "markdown",
   "metadata": {},
   "source": [
    "We will start with the company APPL and afterwards contine with the following companies: IBM, ASNA, CAT, EXPE, GME, IMO, MCO, PLD, GT, XYL, WTR, WFT, UNH, GPS, TMO, JNJ, AMZN, HOG and CBB. Since there are dependencies between the fundamental data, a step-by-step procedure is recommended in order to try out different constellations of the algorithm in relation to the fundamental data used."
   ]
  }
 ],
 "metadata": {
  "kernelspec": {
   "display_name": "Python 3",
   "language": "python",
   "name": "python3"
  },
  "language_info": {
   "codemirror_mode": {
    "name": "ipython",
    "version": 3
   },
   "file_extension": ".py",
   "mimetype": "text/x-python",
   "name": "python",
   "nbconvert_exporter": "python",
   "pygments_lexer": "ipython3",
   "version": "3.6.8"
  }
 },
 "nbformat": 4,
 "nbformat_minor": 2
}
