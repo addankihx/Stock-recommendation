{
 "cells": [
  {
   "cell_type": "markdown",
   "metadata": {},
   "source": [
    "# Lessons Learned"
   ]
  },
  {
   "cell_type": "markdown",
   "metadata": {},
   "source": [
    "In this notebook we are documenting our lessons learned."
   ]
  },
  {
   "cell_type": "markdown",
   "metadata": {},
   "source": [
    "<div align=\"center\">\n",
    "<img src=\"https://cdn-images-1.medium.com/max/760/1*YxY6eODg3r-Z8_P43oOarA.jpeg\"></img>\n",
    "</div>"
   ]
  },
  {
   "cell_type": "markdown",
   "metadata": {},
   "source": [
    "<hr>"
   ]
  },
  {
   "cell_type": "markdown",
   "metadata": {},
   "source": [
    "1. Software development requires a lot more effort than you would expect, because you always come across unplanned challenges. Therefore it is very difficult to give a realistic cost estimate. \n",
    "\n",
    "\n",
    "2. You should always document your code, otherwise it will take a lot of effort afterwards. \n",
    "\n",
    "\n",
    "3. Machine learning can bring enormous running times with it. There are providers, like AWS, who offer good service, but which can be expensive.\n",
    "\n",
    "\n",
    "4. You should write your code well structured from the beginning, otherwise you will have to rewrite all your code later. \n",
    "\n",
    "\n",
    "5. Always research first whether there is already existing code that can be used. For example, the normalization function of sklearn would not have had to be written by the user. \n",
    "\n",
    "\n",
    "6. The code should be divided into three independent packages: Data preperation, testing and training and prediction. The advantage of this is that the code is more flexible and does not always have to be executed in its entirety. "
   ]
  },
  {
   "cell_type": "code",
   "execution_count": null,
   "metadata": {},
   "outputs": [],
   "source": []
  }
 ],
 "metadata": {
  "kernelspec": {
   "display_name": "Python 3",
   "language": "python",
   "name": "python3"
  },
  "language_info": {
   "codemirror_mode": {
    "name": "ipython",
    "version": 3
   },
   "file_extension": ".py",
   "mimetype": "text/x-python",
   "name": "python",
   "nbconvert_exporter": "python",
   "pygments_lexer": "ipython3",
   "version": "3.6.8"
  }
 },
 "nbformat": 4,
 "nbformat_minor": 2
}
