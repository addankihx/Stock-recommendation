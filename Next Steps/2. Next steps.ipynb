{
 "cells": [
  {
   "cell_type": "markdown",
   "metadata": {},
   "source": [
    "# Next steps"
   ]
  },
  {
   "cell_type": "markdown",
   "metadata": {},
   "source": [
    "In this workbook we will describe the next steps we would preceed to increase the accuracy of our stock predictions."
   ]
  },
  {
   "cell_type": "markdown",
   "metadata": {},
   "source": [
    "<div align=\"center\">\n",
    "<img src=\"https://www.incimages.com/uploaded_files/image/970x450/getty_804989330_2000137620009280195_346544.jpg\"></img>\n",
    "</div>"
   ]
  },
  {
   "cell_type": "markdown",
   "metadata": {},
   "source": [
    "## Content\n",
    "\n",
    " 1. Next steps Sklearn methods\n",
    " 2. Next steps Neural Network\n",
    " 3. Overall next steps"
   ]
  },
  {
   "cell_type": "markdown",
   "metadata": {},
   "source": [
    "<hr>"
   ]
  },
  {
   "cell_type": "markdown",
   "metadata": {},
   "source": [
    "# 1. Next steps Sklearn methods"
   ]
  },
  {
   "cell_type": "markdown",
   "metadata": {},
   "source": [
    "In order to further improve the score, the following is conceivable for each method:\n",
    "1. Evaluation of bias and variance with learning curves\n",
    "2. Determination of the best parameters via Grid Search\n",
    "3. Determination of the ideal time courses\n",
    "4. Comparison of the results of all methods and, if necessary, creation of a file containing the most common recommendations for all methods. \n",
    "5. Further optimizations could also be achieved by further sklearn methods\n",
    "6. Furthermore, the code could be revised in terms of performance and the code could be made leaner"
   ]
  },
  {
   "cell_type": "markdown",
   "metadata": {},
   "source": [
    "# 2. Next steps Neural Network"
   ]
  },
  {
   "cell_type": "markdown",
   "metadata": {},
   "source": [
    "To increase the performance of our model we can do the following:\n",
    "   1. Refine our GridSearch parameter (smaller increments) \n",
    "   2. Refine our GridSearch parameter (each hidden layer individual parameters)\n",
    "   3. Vary with the number of hidden layers\n",
    "   4. Vary with the settings of our series to supervised function"
   ]
  },
  {
   "cell_type": "markdown",
   "metadata": {},
   "source": [
    "# 3. Overall next steps"
   ]
  },
  {
   "cell_type": "markdown",
   "metadata": {},
   "source": [
    "To increase the overall performance we would do the following:\n",
    "   1. Combine our sklearn methods and an our neural network for making recommendations\n",
    "   2. Use the Independent Component Analysis (ICA) for finding the independend components which leads to a stock change. \n",
    "      [More information: Paper](https://pdfs.semanticscholar.org/a34b/e08a20eba7523600203a32abb026a8dd85a3.pdf)\n",
    "    "
   ]
  }
 ],
 "metadata": {
  "kernelspec": {
   "display_name": "Python 3",
   "language": "python",
   "name": "python3"
  },
  "language_info": {
   "codemirror_mode": {
    "name": "ipython",
    "version": 3
   },
   "file_extension": ".py",
   "mimetype": "text/x-python",
   "name": "python",
   "nbconvert_exporter": "python",
   "pygments_lexer": "ipython3",
   "version": "3.6.5"
  }
 },
 "nbformat": 4,
 "nbformat_minor": 2
}
